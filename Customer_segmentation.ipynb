{
 "cells": [
  {
   "cell_type": "code",
   "execution_count": 1,
   "id": "f06615b6",
   "metadata": {},
   "outputs": [],
   "source": [
    "import pandas as pd\n",
    "import numpy as np\n",
    "import seaborn as sns\n",
    "import matplotlib.pyplot as plt\n",
    "import matplotlib.cm as cm\n",
    "import os\n",
    "import datetime as dt\n",
    "from scipy import stats\n",
    "from sklearn.preprocessing import StandardScaler\n",
    "from sklearn.decomposition import PCA\n",
    "from yellowbrick.cluster import KElbowVisualizer\n",
    "from sklearn.cluster import KMeans\n",
    "from sklearn.metrics import silhouette_samples, silhouette_score"
   ]
  },
  {
   "cell_type": "code",
   "execution_count": 2,
   "id": "59aedbd3",
   "metadata": {},
   "outputs": [],
   "source": [
    "os.chdir(\"D:\\Sales full project\\sales_customer_segmentation\")"
   ]
  },
  {
   "cell_type": "code",
   "execution_count": 3,
   "id": "4a43527b",
   "metadata": {},
   "outputs": [
    {
     "data": {
      "text/plain": [
       "'D:\\\\Sales full project\\\\sales_customer_segmentation'"
      ]
     },
     "execution_count": 3,
     "metadata": {},
     "output_type": "execute_result"
    }
   ],
   "source": [
    "os.getcwd()"
   ]
  },
  {
   "cell_type": "code",
   "execution_count": 4,
   "id": "135e7e31",
   "metadata": {},
   "outputs": [],
   "source": [
    "cst_df=pd.read_csv(\"DimCustomer.csv\")\n",
    "dt_df=pd.read_csv(\"DimDate.csv\")\n",
    "pd_df=pd.read_csv(\"DimProduct.csv\")\n",
    "pdc_df=pd.read_csv(\"DimProductCategory.csv\")\n",
    "pdsc_df=pd.read_csv(\"DimProductSubCategory.csv\")\n",
    "int_sales=pd.read_csv(\"FactInternetSales.csv\")"
   ]
  },
  {
   "cell_type": "markdown",
   "id": "07d8cd43",
   "metadata": {},
   "source": [
    "## Data Cleaning"
   ]
  },
  {
   "cell_type": "code",
   "execution_count": 5,
   "id": "2997bff4",
   "metadata": {},
   "outputs": [],
   "source": [
    "drop_list = ['GeographyKey','CustomerAlternateKey', 'Title', 'FirstName', 'MiddleName', 'LastName',\"FrenchEducation\",\n",
    " 'NameStyle',\"Suffix\",\"EmailAddress\",\"SpanishOccupation\",\"FrenchOccupation\",\"Phone\",\"NumberCarsOwned\",\"AddressLine1\",\"AddressLine2\",\"SpanishEducation\"]\n",
    "\n",
    "drop_list_pd=['WeightUnitMeasureCode', 'SizeUnitMeasureCode', 'SpanishProductName', 'FrenchProductName', 'ListPrice', 'Size',\n",
    " 'SizeRange', 'Weight', 'DaysToManufacture', 'ProductLine', 'DealerPrice', 'Class', 'Style', 'ModelName', 'LargePhoto',\n",
    " 'FrenchDescription', 'ChineseDescription', 'ArabicDescription', 'HebrewDescription', 'ThaiDescription', 'GermanDescription', 'JapaneseDescription',\n",
    " 'TurkishDescription', 'StandardCost', 'FinishedGoodsFlag', 'Color', 'SafetyStockLevel', 'ReorderPoint', 'Status', 'StartDate', 'EndDate']\n",
    "\n",
    "drop_product_category=[\"ProductCategoryAlternateKey\",\"SpanishProductCategoryName\",\"FrenchProductCategoryName\"]\n",
    "drop_product_subc=[\"ProductSubcategoryAlternateKey\",\"ProductSubcategoryAlternateKey\",\"SpanishProductSubcategoryName\",\"FrenchProductSubcategoryName\"]\n",
    "drop_int_sales=[\"CarrierTrackingNumber\",\"CustomerPONumber\",\"ProductStandardCost\",\"TotalProductCost\",\"PromotionKey\",\"CurrencyKey\",\"SalesTerritoryKey\",\n",
    "               \"OrderDate\",\"DueDate\",\"ShipDate\",\"RevisionNumber\"]\n"
   ]
  },
  {
   "cell_type": "code",
   "execution_count": 6,
   "id": "0574fbcb",
   "metadata": {},
   "outputs": [],
   "source": [
    "cst_df=cst_df.drop(drop_list,axis=1)\n",
    "\n",
    "pd_df=pd_df.drop(drop_list_pd,axis=1)\n",
    "\n",
    "pdsc_df=pdsc_df.drop(drop_product_subc,axis=1)\n",
    "\n",
    "pdc_df=pdc_df.drop(drop_product_category,axis=1)\n",
    "\n",
    "int_sales=int_sales.drop(drop_int_sales,axis=1)"
   ]
  },
  {
   "cell_type": "markdown",
   "id": "abe50245",
   "metadata": {},
   "source": [
    "### Sales data"
   ]
  },
  {
   "cell_type": "code",
   "execution_count": 7,
   "id": "164e7e90",
   "metadata": {
    "scrolled": true
   },
   "outputs": [
    {
     "data": {
      "text/html": [
       "<div>\n",
       "<style scoped>\n",
       "    .dataframe tbody tr th:only-of-type {\n",
       "        vertical-align: middle;\n",
       "    }\n",
       "\n",
       "    .dataframe tbody tr th {\n",
       "        vertical-align: top;\n",
       "    }\n",
       "\n",
       "    .dataframe thead th {\n",
       "        text-align: right;\n",
       "    }\n",
       "</style>\n",
       "<table border=\"1\" class=\"dataframe\">\n",
       "  <thead>\n",
       "    <tr style=\"text-align: right;\">\n",
       "      <th></th>\n",
       "      <th>ProductKey</th>\n",
       "      <th>OrderDateKey</th>\n",
       "      <th>DueDateKey</th>\n",
       "      <th>ShipDateKey</th>\n",
       "      <th>CustomerKey</th>\n",
       "      <th>SalesOrderNumber</th>\n",
       "      <th>SalesOrderLineNumber</th>\n",
       "      <th>OrderQuantity</th>\n",
       "      <th>UnitPrice</th>\n",
       "      <th>ExtendedAmount</th>\n",
       "      <th>UnitPriceDiscountPct</th>\n",
       "      <th>DiscountAmount</th>\n",
       "      <th>SalesAmount</th>\n",
       "      <th>TaxAmt</th>\n",
       "      <th>Freight</th>\n",
       "    </tr>\n",
       "  </thead>\n",
       "  <tbody>\n",
       "    <tr>\n",
       "      <th>0</th>\n",
       "      <td>310</td>\n",
       "      <td>20101229</td>\n",
       "      <td>20110110</td>\n",
       "      <td>20110105</td>\n",
       "      <td>21768</td>\n",
       "      <td>SO43697</td>\n",
       "      <td>1</td>\n",
       "      <td>1</td>\n",
       "      <td>3578.2700</td>\n",
       "      <td>3578.2700</td>\n",
       "      <td>0</td>\n",
       "      <td>0</td>\n",
       "      <td>3578.2700</td>\n",
       "      <td>286.2616</td>\n",
       "      <td>89.4568</td>\n",
       "    </tr>\n",
       "    <tr>\n",
       "      <th>1</th>\n",
       "      <td>346</td>\n",
       "      <td>20101229</td>\n",
       "      <td>20110110</td>\n",
       "      <td>20110105</td>\n",
       "      <td>28389</td>\n",
       "      <td>SO43698</td>\n",
       "      <td>1</td>\n",
       "      <td>1</td>\n",
       "      <td>3399.9900</td>\n",
       "      <td>3399.9900</td>\n",
       "      <td>0</td>\n",
       "      <td>0</td>\n",
       "      <td>3399.9900</td>\n",
       "      <td>271.9992</td>\n",
       "      <td>84.9998</td>\n",
       "    </tr>\n",
       "    <tr>\n",
       "      <th>2</th>\n",
       "      <td>346</td>\n",
       "      <td>20101229</td>\n",
       "      <td>20110110</td>\n",
       "      <td>20110105</td>\n",
       "      <td>25863</td>\n",
       "      <td>SO43699</td>\n",
       "      <td>1</td>\n",
       "      <td>1</td>\n",
       "      <td>3399.9900</td>\n",
       "      <td>3399.9900</td>\n",
       "      <td>0</td>\n",
       "      <td>0</td>\n",
       "      <td>3399.9900</td>\n",
       "      <td>271.9992</td>\n",
       "      <td>84.9998</td>\n",
       "    </tr>\n",
       "    <tr>\n",
       "      <th>3</th>\n",
       "      <td>336</td>\n",
       "      <td>20101229</td>\n",
       "      <td>20110110</td>\n",
       "      <td>20110105</td>\n",
       "      <td>14501</td>\n",
       "      <td>SO43700</td>\n",
       "      <td>1</td>\n",
       "      <td>1</td>\n",
       "      <td>699.0982</td>\n",
       "      <td>699.0982</td>\n",
       "      <td>0</td>\n",
       "      <td>0</td>\n",
       "      <td>699.0982</td>\n",
       "      <td>55.9279</td>\n",
       "      <td>17.4775</td>\n",
       "    </tr>\n",
       "    <tr>\n",
       "      <th>4</th>\n",
       "      <td>346</td>\n",
       "      <td>20101229</td>\n",
       "      <td>20110110</td>\n",
       "      <td>20110105</td>\n",
       "      <td>11003</td>\n",
       "      <td>SO43701</td>\n",
       "      <td>1</td>\n",
       "      <td>1</td>\n",
       "      <td>3399.9900</td>\n",
       "      <td>3399.9900</td>\n",
       "      <td>0</td>\n",
       "      <td>0</td>\n",
       "      <td>3399.9900</td>\n",
       "      <td>271.9992</td>\n",
       "      <td>84.9998</td>\n",
       "    </tr>\n",
       "  </tbody>\n",
       "</table>\n",
       "</div>"
      ],
      "text/plain": [
       "   ProductKey  OrderDateKey  DueDateKey  ShipDateKey  CustomerKey  \\\n",
       "0         310      20101229    20110110     20110105        21768   \n",
       "1         346      20101229    20110110     20110105        28389   \n",
       "2         346      20101229    20110110     20110105        25863   \n",
       "3         336      20101229    20110110     20110105        14501   \n",
       "4         346      20101229    20110110     20110105        11003   \n",
       "\n",
       "  SalesOrderNumber  SalesOrderLineNumber  OrderQuantity  UnitPrice  \\\n",
       "0          SO43697                     1              1  3578.2700   \n",
       "1          SO43698                     1              1  3399.9900   \n",
       "2          SO43699                     1              1  3399.9900   \n",
       "3          SO43700                     1              1   699.0982   \n",
       "4          SO43701                     1              1  3399.9900   \n",
       "\n",
       "   ExtendedAmount  UnitPriceDiscountPct  DiscountAmount  SalesAmount  \\\n",
       "0       3578.2700                     0               0    3578.2700   \n",
       "1       3399.9900                     0               0    3399.9900   \n",
       "2       3399.9900                     0               0    3399.9900   \n",
       "3        699.0982                     0               0     699.0982   \n",
       "4       3399.9900                     0               0    3399.9900   \n",
       "\n",
       "     TaxAmt  Freight  \n",
       "0  286.2616  89.4568  \n",
       "1  271.9992  84.9998  \n",
       "2  271.9992  84.9998  \n",
       "3   55.9279  17.4775  \n",
       "4  271.9992  84.9998  "
      ]
     },
     "execution_count": 7,
     "metadata": {},
     "output_type": "execute_result"
    }
   ],
   "source": [
    "int_sales.head()"
   ]
  },
  {
   "cell_type": "markdown",
   "id": "2dc413b8",
   "metadata": {},
   "source": [
    "Changing the Numeric data type of the date column to Date"
   ]
  },
  {
   "cell_type": "code",
   "execution_count": 8,
   "id": "f3dadc94",
   "metadata": {},
   "outputs": [],
   "source": [
    "def date_conversion(x):\n",
    "    y=pd.to_datetime(x,format=\"%Y%m%d\")\n",
    "    return y"
   ]
  },
  {
   "cell_type": "code",
   "execution_count": 9,
   "id": "bd7a64ba",
   "metadata": {},
   "outputs": [],
   "source": [
    "int_sales[[\"OrderDateKey\",\"DueDateKey\",\"ShipDateKey\"]]=int_sales[[\"OrderDateKey\",\"DueDateKey\",\"ShipDateKey\"]].apply(date_conversion)"
   ]
  },
  {
   "cell_type": "markdown",
   "id": "282258d0",
   "metadata": {},
   "source": [
    "Checking the number of unique values in each columns of the Sales table"
   ]
  },
  {
   "cell_type": "code",
   "execution_count": 10,
   "id": "a3821200",
   "metadata": {},
   "outputs": [],
   "source": [
    "int_cols=int_sales.select_dtypes(exclude=\"O\").columns\n",
    "temp_df=pd.DataFrame()\n",
    "for col in int_cols:\n",
    "    temp_df.loc[1,col]=int_sales[col].nunique()"
   ]
  },
  {
   "cell_type": "code",
   "execution_count": 11,
   "id": "69aa3de9",
   "metadata": {},
   "outputs": [
    {
     "data": {
      "text/html": [
       "<div>\n",
       "<style scoped>\n",
       "    .dataframe tbody tr th:only-of-type {\n",
       "        vertical-align: middle;\n",
       "    }\n",
       "\n",
       "    .dataframe tbody tr th {\n",
       "        vertical-align: top;\n",
       "    }\n",
       "\n",
       "    .dataframe thead th {\n",
       "        text-align: right;\n",
       "    }\n",
       "</style>\n",
       "<table border=\"1\" class=\"dataframe\">\n",
       "  <thead>\n",
       "    <tr style=\"text-align: right;\">\n",
       "      <th></th>\n",
       "      <th>ProductKey</th>\n",
       "      <th>OrderDateKey</th>\n",
       "      <th>DueDateKey</th>\n",
       "      <th>ShipDateKey</th>\n",
       "      <th>CustomerKey</th>\n",
       "      <th>SalesOrderLineNumber</th>\n",
       "      <th>OrderQuantity</th>\n",
       "      <th>UnitPrice</th>\n",
       "      <th>ExtendedAmount</th>\n",
       "      <th>UnitPriceDiscountPct</th>\n",
       "      <th>DiscountAmount</th>\n",
       "      <th>SalesAmount</th>\n",
       "      <th>TaxAmt</th>\n",
       "      <th>Freight</th>\n",
       "    </tr>\n",
       "  </thead>\n",
       "  <tbody>\n",
       "    <tr>\n",
       "      <th>1</th>\n",
       "      <td>158.0</td>\n",
       "      <td>1124.0</td>\n",
       "      <td>1124.0</td>\n",
       "      <td>1124.0</td>\n",
       "      <td>18484.0</td>\n",
       "      <td>8.0</td>\n",
       "      <td>1.0</td>\n",
       "      <td>42.0</td>\n",
       "      <td>42.0</td>\n",
       "      <td>1.0</td>\n",
       "      <td>1.0</td>\n",
       "      <td>42.0</td>\n",
       "      <td>42.0</td>\n",
       "      <td>42.0</td>\n",
       "    </tr>\n",
       "  </tbody>\n",
       "</table>\n",
       "</div>"
      ],
      "text/plain": [
       "   ProductKey  OrderDateKey  DueDateKey  ShipDateKey  CustomerKey  \\\n",
       "1       158.0        1124.0      1124.0       1124.0      18484.0   \n",
       "\n",
       "   SalesOrderLineNumber  OrderQuantity  UnitPrice  ExtendedAmount  \\\n",
       "1                   8.0            1.0       42.0            42.0   \n",
       "\n",
       "   UnitPriceDiscountPct  DiscountAmount  SalesAmount  TaxAmt  Freight  \n",
       "1                   1.0             1.0         42.0    42.0     42.0  "
      ]
     },
     "execution_count": 11,
     "metadata": {},
     "output_type": "execute_result"
    }
   ],
   "source": [
    "temp_df"
   ]
  },
  {
   "cell_type": "code",
   "execution_count": 12,
   "id": "1f41649a",
   "metadata": {},
   "outputs": [
    {
     "data": {
      "text/plain": [
       "27659"
      ]
     },
     "execution_count": 12,
     "metadata": {},
     "output_type": "execute_result"
    }
   ],
   "source": [
    "int_sales[\"SalesOrderNumber\"].nunique()"
   ]
  },
  {
   "cell_type": "markdown",
   "id": "e25940d6",
   "metadata": {},
   "source": [
    "There are 158 products for 18484 customers where the total number of transcation carried out  27659 within the span of 3 Years.\n",
    "        (i.e., 2010-12-29 to 2014-01-28)\n"
   ]
  },
  {
   "cell_type": "markdown",
   "id": "f7445d9d",
   "metadata": {},
   "source": [
    "Checking if there is any Variation between UnitPrice & ExtendedAmount using statistical  Kruskal Wallis test In order to eliminate one among them.\n",
    "\n",
    "Reason for choosing KrushalWallis Test as it is performed on non parametric data."
   ]
  },
  {
   "cell_type": "code",
   "execution_count": 13,
   "id": "5b6b071c",
   "metadata": {},
   "outputs": [
    {
     "name": "stdout",
     "output_type": "stream",
     "text": [
      "Null Hypothesis is accepted the as the pvalue is greater than 0.05\n"
     ]
    }
   ],
   "source": [
    "Var_test=stats.kruskal(int_sales[\"UnitPrice\"],int_sales[\"ExtendedAmount\"])\n",
    "if Var_test[-1]>0.05:\n",
    "    print(\"Null Hypothesis is accepted the as the pvalue is greater than 0.05\")\n",
    "else:\n",
    "    print(\"We reject the Null Hypothesis\")"
   ]
  },
  {
   "cell_type": "markdown",
   "id": "f9b03129",
   "metadata": {},
   "source": [
    "From the temp_df it is very clear that the company has not provided any kind of discounts on any of there products.\n",
    "so we can drop UnitPriceDiscountPct and DiscountAmount.\n",
    "\n",
    "As they have not offered any discounts SalesAmount considered and the UnitPrice and ExtendedAmount are also dropped."
   ]
  },
  {
   "cell_type": "code",
   "execution_count": 14,
   "id": "0f84bf62",
   "metadata": {},
   "outputs": [],
   "source": [
    "drop_col=['UnitPrice', 'ExtendedAmount', 'UnitPriceDiscountPct', 'DiscountAmount','OrderQuantity',\"SalesOrderLineNumber\"]\n"
   ]
  },
  {
   "cell_type": "code",
   "execution_count": 15,
   "id": "b0bdaf52",
   "metadata": {},
   "outputs": [],
   "source": [
    "int_sales=int_sales.drop(drop_col,axis=1)"
   ]
  },
  {
   "cell_type": "code",
   "execution_count": 16,
   "id": "f695f4ea",
   "metadata": {},
   "outputs": [
    {
     "data": {
      "text/html": [
       "<div>\n",
       "<style scoped>\n",
       "    .dataframe tbody tr th:only-of-type {\n",
       "        vertical-align: middle;\n",
       "    }\n",
       "\n",
       "    .dataframe tbody tr th {\n",
       "        vertical-align: top;\n",
       "    }\n",
       "\n",
       "    .dataframe thead th {\n",
       "        text-align: right;\n",
       "    }\n",
       "</style>\n",
       "<table border=\"1\" class=\"dataframe\">\n",
       "  <thead>\n",
       "    <tr style=\"text-align: right;\">\n",
       "      <th></th>\n",
       "      <th>ProductKey</th>\n",
       "      <th>OrderDateKey</th>\n",
       "      <th>DueDateKey</th>\n",
       "      <th>ShipDateKey</th>\n",
       "      <th>CustomerKey</th>\n",
       "      <th>SalesOrderNumber</th>\n",
       "      <th>SalesAmount</th>\n",
       "      <th>TaxAmt</th>\n",
       "      <th>Freight</th>\n",
       "    </tr>\n",
       "  </thead>\n",
       "  <tbody>\n",
       "    <tr>\n",
       "      <th>0</th>\n",
       "      <td>310</td>\n",
       "      <td>2010-12-29</td>\n",
       "      <td>2011-01-10</td>\n",
       "      <td>2011-01-05</td>\n",
       "      <td>21768</td>\n",
       "      <td>SO43697</td>\n",
       "      <td>3578.2700</td>\n",
       "      <td>286.2616</td>\n",
       "      <td>89.4568</td>\n",
       "    </tr>\n",
       "    <tr>\n",
       "      <th>1</th>\n",
       "      <td>346</td>\n",
       "      <td>2010-12-29</td>\n",
       "      <td>2011-01-10</td>\n",
       "      <td>2011-01-05</td>\n",
       "      <td>28389</td>\n",
       "      <td>SO43698</td>\n",
       "      <td>3399.9900</td>\n",
       "      <td>271.9992</td>\n",
       "      <td>84.9998</td>\n",
       "    </tr>\n",
       "    <tr>\n",
       "      <th>2</th>\n",
       "      <td>346</td>\n",
       "      <td>2010-12-29</td>\n",
       "      <td>2011-01-10</td>\n",
       "      <td>2011-01-05</td>\n",
       "      <td>25863</td>\n",
       "      <td>SO43699</td>\n",
       "      <td>3399.9900</td>\n",
       "      <td>271.9992</td>\n",
       "      <td>84.9998</td>\n",
       "    </tr>\n",
       "    <tr>\n",
       "      <th>3</th>\n",
       "      <td>336</td>\n",
       "      <td>2010-12-29</td>\n",
       "      <td>2011-01-10</td>\n",
       "      <td>2011-01-05</td>\n",
       "      <td>14501</td>\n",
       "      <td>SO43700</td>\n",
       "      <td>699.0982</td>\n",
       "      <td>55.9279</td>\n",
       "      <td>17.4775</td>\n",
       "    </tr>\n",
       "    <tr>\n",
       "      <th>4</th>\n",
       "      <td>346</td>\n",
       "      <td>2010-12-29</td>\n",
       "      <td>2011-01-10</td>\n",
       "      <td>2011-01-05</td>\n",
       "      <td>11003</td>\n",
       "      <td>SO43701</td>\n",
       "      <td>3399.9900</td>\n",
       "      <td>271.9992</td>\n",
       "      <td>84.9998</td>\n",
       "    </tr>\n",
       "    <tr>\n",
       "      <th>...</th>\n",
       "      <td>...</td>\n",
       "      <td>...</td>\n",
       "      <td>...</td>\n",
       "      <td>...</td>\n",
       "      <td>...</td>\n",
       "      <td>...</td>\n",
       "      <td>...</td>\n",
       "      <td>...</td>\n",
       "      <td>...</td>\n",
       "    </tr>\n",
       "    <tr>\n",
       "      <th>60393</th>\n",
       "      <td>485</td>\n",
       "      <td>2014-01-28</td>\n",
       "      <td>2014-02-09</td>\n",
       "      <td>2014-02-04</td>\n",
       "      <td>15868</td>\n",
       "      <td>SO75122</td>\n",
       "      <td>21.9800</td>\n",
       "      <td>1.7584</td>\n",
       "      <td>0.5495</td>\n",
       "    </tr>\n",
       "    <tr>\n",
       "      <th>60394</th>\n",
       "      <td>225</td>\n",
       "      <td>2014-01-28</td>\n",
       "      <td>2014-02-09</td>\n",
       "      <td>2014-02-04</td>\n",
       "      <td>15868</td>\n",
       "      <td>SO75122</td>\n",
       "      <td>8.9900</td>\n",
       "      <td>0.7192</td>\n",
       "      <td>0.2248</td>\n",
       "    </tr>\n",
       "    <tr>\n",
       "      <th>60395</th>\n",
       "      <td>485</td>\n",
       "      <td>2014-01-28</td>\n",
       "      <td>2014-02-09</td>\n",
       "      <td>2014-02-04</td>\n",
       "      <td>18759</td>\n",
       "      <td>SO75123</td>\n",
       "      <td>21.9800</td>\n",
       "      <td>1.7584</td>\n",
       "      <td>0.5495</td>\n",
       "    </tr>\n",
       "    <tr>\n",
       "      <th>60396</th>\n",
       "      <td>486</td>\n",
       "      <td>2014-01-28</td>\n",
       "      <td>2014-02-09</td>\n",
       "      <td>2014-02-04</td>\n",
       "      <td>18759</td>\n",
       "      <td>SO75123</td>\n",
       "      <td>159.0000</td>\n",
       "      <td>12.7200</td>\n",
       "      <td>3.9750</td>\n",
       "    </tr>\n",
       "    <tr>\n",
       "      <th>60397</th>\n",
       "      <td>225</td>\n",
       "      <td>2014-01-28</td>\n",
       "      <td>2014-02-09</td>\n",
       "      <td>2014-02-04</td>\n",
       "      <td>18759</td>\n",
       "      <td>SO75123</td>\n",
       "      <td>8.9900</td>\n",
       "      <td>0.7192</td>\n",
       "      <td>0.2248</td>\n",
       "    </tr>\n",
       "  </tbody>\n",
       "</table>\n",
       "<p>60398 rows × 9 columns</p>\n",
       "</div>"
      ],
      "text/plain": [
       "       ProductKey OrderDateKey DueDateKey ShipDateKey  CustomerKey  \\\n",
       "0             310   2010-12-29 2011-01-10  2011-01-05        21768   \n",
       "1             346   2010-12-29 2011-01-10  2011-01-05        28389   \n",
       "2             346   2010-12-29 2011-01-10  2011-01-05        25863   \n",
       "3             336   2010-12-29 2011-01-10  2011-01-05        14501   \n",
       "4             346   2010-12-29 2011-01-10  2011-01-05        11003   \n",
       "...           ...          ...        ...         ...          ...   \n",
       "60393         485   2014-01-28 2014-02-09  2014-02-04        15868   \n",
       "60394         225   2014-01-28 2014-02-09  2014-02-04        15868   \n",
       "60395         485   2014-01-28 2014-02-09  2014-02-04        18759   \n",
       "60396         486   2014-01-28 2014-02-09  2014-02-04        18759   \n",
       "60397         225   2014-01-28 2014-02-09  2014-02-04        18759   \n",
       "\n",
       "      SalesOrderNumber  SalesAmount    TaxAmt  Freight  \n",
       "0              SO43697    3578.2700  286.2616  89.4568  \n",
       "1              SO43698    3399.9900  271.9992  84.9998  \n",
       "2              SO43699    3399.9900  271.9992  84.9998  \n",
       "3              SO43700     699.0982   55.9279  17.4775  \n",
       "4              SO43701    3399.9900  271.9992  84.9998  \n",
       "...                ...          ...       ...      ...  \n",
       "60393          SO75122      21.9800    1.7584   0.5495  \n",
       "60394          SO75122       8.9900    0.7192   0.2248  \n",
       "60395          SO75123      21.9800    1.7584   0.5495  \n",
       "60396          SO75123     159.0000   12.7200   3.9750  \n",
       "60397          SO75123       8.9900    0.7192   0.2248  \n",
       "\n",
       "[60398 rows x 9 columns]"
      ]
     },
     "execution_count": 16,
     "metadata": {},
     "output_type": "execute_result"
    }
   ],
   "source": [
    "int_sales"
   ]
  },
  {
   "cell_type": "code",
   "execution_count": 17,
   "id": "c181754e",
   "metadata": {},
   "outputs": [],
   "source": [
    "present_date=dt.datetime(2014,1,30)"
   ]
  },
  {
   "cell_type": "code",
   "execution_count": 18,
   "id": "a868bcce",
   "metadata": {},
   "outputs": [
    {
     "data": {
      "text/plain": [
       "Timestamp('2014-01-28 00:00:00')"
      ]
     },
     "execution_count": 18,
     "metadata": {},
     "output_type": "execute_result"
    }
   ],
   "source": [
    "max(int_sales[\"OrderDateKey\"])"
   ]
  },
  {
   "cell_type": "code",
   "execution_count": 19,
   "id": "af49c5c0",
   "metadata": {},
   "outputs": [],
   "source": [
    "rfm=int_sales.groupby(\"CustomerKey\").agg({\"OrderDateKey\": lambda max_date:(present_date-max_date.max()).days,\n",
    "                                         \"SalesOrderNumber\":lambda freq:freq.nunique(),\n",
    "                                         \"SalesAmount\":lambda sales:sales.sum()})\n",
    "rfm.columns=[\"Recency\",\"Frequency\",\"Monetary\"]\n",
    "rfm=rfm.reset_index()"
   ]
  },
  {
   "cell_type": "code",
   "execution_count": 20,
   "id": "1731465c",
   "metadata": {},
   "outputs": [
    {
     "data": {
      "text/html": [
       "<div>\n",
       "<style scoped>\n",
       "    .dataframe tbody tr th:only-of-type {\n",
       "        vertical-align: middle;\n",
       "    }\n",
       "\n",
       "    .dataframe tbody tr th {\n",
       "        vertical-align: top;\n",
       "    }\n",
       "\n",
       "    .dataframe thead th {\n",
       "        text-align: right;\n",
       "    }\n",
       "</style>\n",
       "<table border=\"1\" class=\"dataframe\">\n",
       "  <thead>\n",
       "    <tr style=\"text-align: right;\">\n",
       "      <th></th>\n",
       "      <th>CustomerKey</th>\n",
       "      <th>Recency</th>\n",
       "      <th>Frequency</th>\n",
       "      <th>Monetary</th>\n",
       "    </tr>\n",
       "  </thead>\n",
       "  <tbody>\n",
       "    <tr>\n",
       "      <th>0</th>\n",
       "      <td>11000</td>\n",
       "      <td>272</td>\n",
       "      <td>3</td>\n",
       "      <td>8248.9900</td>\n",
       "    </tr>\n",
       "    <tr>\n",
       "      <th>1</th>\n",
       "      <td>11001</td>\n",
       "      <td>51</td>\n",
       "      <td>3</td>\n",
       "      <td>6383.8800</td>\n",
       "    </tr>\n",
       "    <tr>\n",
       "      <th>2</th>\n",
       "      <td>11002</td>\n",
       "      <td>341</td>\n",
       "      <td>3</td>\n",
       "      <td>8114.0400</td>\n",
       "    </tr>\n",
       "    <tr>\n",
       "      <th>3</th>\n",
       "      <td>11003</td>\n",
       "      <td>265</td>\n",
       "      <td>3</td>\n",
       "      <td>8139.2900</td>\n",
       "    </tr>\n",
       "    <tr>\n",
       "      <th>4</th>\n",
       "      <td>11004</td>\n",
       "      <td>274</td>\n",
       "      <td>3</td>\n",
       "      <td>8196.0100</td>\n",
       "    </tr>\n",
       "    <tr>\n",
       "      <th>...</th>\n",
       "      <td>...</td>\n",
       "      <td>...</td>\n",
       "      <td>...</td>\n",
       "      <td>...</td>\n",
       "    </tr>\n",
       "    <tr>\n",
       "      <th>18479</th>\n",
       "      <td>29479</td>\n",
       "      <td>513</td>\n",
       "      <td>1</td>\n",
       "      <td>2049.0982</td>\n",
       "    </tr>\n",
       "    <tr>\n",
       "      <th>18480</th>\n",
       "      <td>29480</td>\n",
       "      <td>197</td>\n",
       "      <td>1</td>\n",
       "      <td>2442.0300</td>\n",
       "    </tr>\n",
       "    <tr>\n",
       "      <th>18481</th>\n",
       "      <td>29481</td>\n",
       "      <td>901</td>\n",
       "      <td>1</td>\n",
       "      <td>3374.9900</td>\n",
       "    </tr>\n",
       "    <tr>\n",
       "      <th>18482</th>\n",
       "      <td>29482</td>\n",
       "      <td>499</td>\n",
       "      <td>1</td>\n",
       "      <td>2049.0982</td>\n",
       "    </tr>\n",
       "    <tr>\n",
       "      <th>18483</th>\n",
       "      <td>29483</td>\n",
       "      <td>508</td>\n",
       "      <td>1</td>\n",
       "      <td>2049.0982</td>\n",
       "    </tr>\n",
       "  </tbody>\n",
       "</table>\n",
       "<p>18484 rows × 4 columns</p>\n",
       "</div>"
      ],
      "text/plain": [
       "       CustomerKey  Recency  Frequency   Monetary\n",
       "0            11000      272          3  8248.9900\n",
       "1            11001       51          3  6383.8800\n",
       "2            11002      341          3  8114.0400\n",
       "3            11003      265          3  8139.2900\n",
       "4            11004      274          3  8196.0100\n",
       "...            ...      ...        ...        ...\n",
       "18479        29479      513          1  2049.0982\n",
       "18480        29480      197          1  2442.0300\n",
       "18481        29481      901          1  3374.9900\n",
       "18482        29482      499          1  2049.0982\n",
       "18483        29483      508          1  2049.0982\n",
       "\n",
       "[18484 rows x 4 columns]"
      ]
     },
     "execution_count": 20,
     "metadata": {},
     "output_type": "execute_result"
    }
   ],
   "source": [
    "rfm"
   ]
  },
  {
   "cell_type": "markdown",
   "id": "0b547202",
   "metadata": {},
   "source": [
    "### Customer Data"
   ]
  },
  {
   "cell_type": "code",
   "execution_count": 21,
   "id": "b6a53991",
   "metadata": {},
   "outputs": [
    {
     "data": {
      "text/plain": [
       "(18484, 12)"
      ]
     },
     "execution_count": 21,
     "metadata": {},
     "output_type": "execute_result"
    }
   ],
   "source": [
    "# The number of days a customer is registered in the database.\n",
    "cst_df.head()\n",
    "cst_df.shape"
   ]
  },
  {
   "cell_type": "code",
   "execution_count": 22,
   "id": "82efafaa",
   "metadata": {},
   "outputs": [
    {
     "name": "stdout",
     "output_type": "stream",
     "text": [
      "The older customer's enrollment date: 2010-12-29\n",
      "The newest customer's enrollment date: 2014-01-28\n"
     ]
    }
   ],
   "source": [
    "print(\"The older customer's enrollment date:\",min(cst_df[\"DateFirstPurchase\"]))\n",
    "print(\"The newest customer's enrollment date:\",max(cst_df[\"DateFirstPurchase\"]))"
   ]
  },
  {
   "cell_type": "code",
   "execution_count": 23,
   "id": "be172739",
   "metadata": {},
   "outputs": [
    {
     "name": "stdout",
     "output_type": "stream",
     "text": [
      "Count of the categories in the Marital_Status feature:\n",
      " M    10011\n",
      "S     8473\n",
      "Name: MaritalStatus, dtype: int64\n"
     ]
    },
    {
     "data": {
      "image/png": "[encoded data removed]",
      "text/plain": [
       "<Figure size 576x396 with 1 Axes>"
      ]
     },
     "metadata": {},
     "output_type": "display_data"
    }
   ],
   "source": [
    "print(\"Count of the categories in the Marital_Status feature:\\n\",cst_df[\"MaritalStatus\"].value_counts())\n",
    "cst_df[\"MaritalStatus\"].value_counts().plot(kind=\"bar\")\n",
    "plt.show()"
   ]
  },
  {
   "cell_type": "code",
   "execution_count": 24,
   "id": "ebbe51d2",
   "metadata": {},
   "outputs": [
    {
     "name": "stdout",
     "output_type": "stream",
     "text": [
      "Count of the categories in the Marital_Status feature:\n",
      " Bachelors              5356\n",
      "Partial College        5064\n",
      "High School            3294\n",
      "Graduate Degree        3189\n",
      "Partial High School    1581\n",
      "Name: EnglishEducation, dtype: int64\n"
     ]
    },
    {
     "data": {
      "image/png": "[encoded data removed]",
      "text/plain": [
       "<Figure size 576x396 with 1 Axes>"
      ]
     },
     "metadata": {},
     "output_type": "display_data"
    }
   ],
   "source": [
    "print(\"Count of the categories in the Marital_Status feature:\\n\",cst_df[\"EnglishEducation\"].value_counts())\n",
    "cst_df[\"EnglishEducation\"].value_counts().plot(kind=\"bar\")\n",
    "plt.show()"
   ]
  },
  {
   "cell_type": "code",
   "execution_count": 25,
   "id": "14ee6198",
   "metadata": {},
   "outputs": [
    {
     "name": "stdout",
     "output_type": "stream",
     "text": [
      "Count of the categories in the Marital_Status feature:\n",
      " Professional      5520\n",
      "Skilled Manual    4577\n",
      "Management        3075\n",
      "Clerical          2928\n",
      "Manual            2384\n",
      "Name: EnglishOccupation, dtype: int64\n"
     ]
    },
    {
     "data": {
      "image/png": "[encoded data removed]",
      "text/plain": [
       "<Figure size 576x396 with 1 Axes>"
      ]
     },
     "metadata": {},
     "output_type": "display_data"
    }
   ],
   "source": [
    "print(\"Count of the categories in the Marital_Status feature:\\n\",cst_df[\"EnglishOccupation\"].value_counts())\n",
    "cst_df[\"EnglishOccupation\"].value_counts().plot(kind=\"bar\")\n",
    "plt.show()"
   ]
  },
  {
   "cell_type": "markdown",
   "id": "2d4dcef9",
   "metadata": {},
   "source": [
    "Skilled Manual: a person whose job involves working with the hands.\n",
    "Clerical:assigned to an office clerk or clerks\n",
    "Manual:a person whose job involves physical work\n",
    "Management:Management Occupations comprises the following occupations: Chief Executives; General and Operations etc\n",
    "Professional: someone who derives their income from their specific knowledge or experience"
   ]
  },
  {
   "cell_type": "code",
   "execution_count": 26,
   "id": "ffd22465",
   "metadata": {},
   "outputs": [],
   "source": [
    "cst_df[\"Year_Birth\"]=cst_df[\"BirthDate\"].apply(lambda x:int(x.split(\"-\")[0]))"
   ]
  },
  {
   "cell_type": "code",
   "execution_count": 27,
   "id": "a421a288",
   "metadata": {},
   "outputs": [],
   "source": [
    "cst_df[\"Age\"]=2014-cst_df[\"Year_Birth\"]"
   ]
  },
  {
   "cell_type": "code",
   "execution_count": 28,
   "id": "f1761a4d",
   "metadata": {},
   "outputs": [],
   "source": [
    "drop_col=[\"BirthDate\",\"MaritalStatus\",\"TotalChildren\",\"Gender\",\"CommuteDistance\",\"Year_Birth\"]"
   ]
  },
  {
   "cell_type": "code",
   "execution_count": 29,
   "id": "d033f835",
   "metadata": {},
   "outputs": [],
   "source": [
    "cst_df=cst_df.drop(drop_col,axis=1)"
   ]
  },
  {
   "cell_type": "code",
   "execution_count": 30,
   "id": "b5856d8b",
   "metadata": {},
   "outputs": [
    {
     "data": {
      "text/html": [
       "<div>\n",
       "<style scoped>\n",
       "    .dataframe tbody tr th:only-of-type {\n",
       "        vertical-align: middle;\n",
       "    }\n",
       "\n",
       "    .dataframe tbody tr th {\n",
       "        vertical-align: top;\n",
       "    }\n",
       "\n",
       "    .dataframe thead th {\n",
       "        text-align: right;\n",
       "    }\n",
       "</style>\n",
       "<table border=\"1\" class=\"dataframe\">\n",
       "  <thead>\n",
       "    <tr style=\"text-align: right;\">\n",
       "      <th></th>\n",
       "      <th>CustomerKey</th>\n",
       "      <th>YearlyIncome</th>\n",
       "      <th>NumberChildrenAtHome</th>\n",
       "      <th>EnglishEducation</th>\n",
       "      <th>EnglishOccupation</th>\n",
       "      <th>HouseOwnerFlag</th>\n",
       "      <th>DateFirstPurchase</th>\n",
       "      <th>Age</th>\n",
       "    </tr>\n",
       "  </thead>\n",
       "  <tbody>\n",
       "    <tr>\n",
       "      <th>0</th>\n",
       "      <td>11000</td>\n",
       "      <td>90000.0</td>\n",
       "      <td>0</td>\n",
       "      <td>Bachelors</td>\n",
       "      <td>Professional</td>\n",
       "      <td>1</td>\n",
       "      <td>2011-01-19</td>\n",
       "      <td>43</td>\n",
       "    </tr>\n",
       "    <tr>\n",
       "      <th>1</th>\n",
       "      <td>11001</td>\n",
       "      <td>60000.0</td>\n",
       "      <td>3</td>\n",
       "      <td>Bachelors</td>\n",
       "      <td>Professional</td>\n",
       "      <td>0</td>\n",
       "      <td>2011-01-15</td>\n",
       "      <td>38</td>\n",
       "    </tr>\n",
       "    <tr>\n",
       "      <th>2</th>\n",
       "      <td>11002</td>\n",
       "      <td>60000.0</td>\n",
       "      <td>3</td>\n",
       "      <td>Bachelors</td>\n",
       "      <td>Professional</td>\n",
       "      <td>1</td>\n",
       "      <td>2011-01-07</td>\n",
       "      <td>43</td>\n",
       "    </tr>\n",
       "    <tr>\n",
       "      <th>3</th>\n",
       "      <td>11003</td>\n",
       "      <td>70000.0</td>\n",
       "      <td>0</td>\n",
       "      <td>Bachelors</td>\n",
       "      <td>Professional</td>\n",
       "      <td>0</td>\n",
       "      <td>2010-12-29</td>\n",
       "      <td>41</td>\n",
       "    </tr>\n",
       "    <tr>\n",
       "      <th>4</th>\n",
       "      <td>11004</td>\n",
       "      <td>80000.0</td>\n",
       "      <td>5</td>\n",
       "      <td>Bachelors</td>\n",
       "      <td>Professional</td>\n",
       "      <td>1</td>\n",
       "      <td>2011-01-23</td>\n",
       "      <td>35</td>\n",
       "    </tr>\n",
       "  </tbody>\n",
       "</table>\n",
       "</div>"
      ],
      "text/plain": [
       "   CustomerKey  YearlyIncome  NumberChildrenAtHome EnglishEducation  \\\n",
       "0        11000       90000.0                     0        Bachelors   \n",
       "1        11001       60000.0                     3        Bachelors   \n",
       "2        11002       60000.0                     3        Bachelors   \n",
       "3        11003       70000.0                     0        Bachelors   \n",
       "4        11004       80000.0                     5        Bachelors   \n",
       "\n",
       "  EnglishOccupation  HouseOwnerFlag DateFirstPurchase  Age  \n",
       "0      Professional               1        2011-01-19   43  \n",
       "1      Professional               0        2011-01-15   38  \n",
       "2      Professional               1        2011-01-07   43  \n",
       "3      Professional               0        2010-12-29   41  \n",
       "4      Professional               1        2011-01-23   35  "
      ]
     },
     "execution_count": 30,
     "metadata": {},
     "output_type": "execute_result"
    }
   ],
   "source": [
    "cst_df.head()"
   ]
  },
  {
   "cell_type": "markdown",
   "id": "9aa08a53",
   "metadata": {},
   "source": [
    "Rfm of the customers are merged with the customers table"
   ]
  },
  {
   "cell_type": "code",
   "execution_count": 31,
   "id": "300580fa",
   "metadata": {},
   "outputs": [],
   "source": [
    "cst_rfm=cst_df.merge(rfm)"
   ]
  },
  {
   "cell_type": "code",
   "execution_count": 32,
   "id": "e57cadfa",
   "metadata": {},
   "outputs": [],
   "source": [
    "cst_rfm.rename(columns={\"Monetary\":\"Total_Sales\"},inplace=True)"
   ]
  },
  {
   "cell_type": "code",
   "execution_count": 33,
   "id": "f04dd11c",
   "metadata": {},
   "outputs": [
    {
     "data": {
      "text/html": [
       "<div>\n",
       "<style scoped>\n",
       "    .dataframe tbody tr th:only-of-type {\n",
       "        vertical-align: middle;\n",
       "    }\n",
       "\n",
       "    .dataframe tbody tr th {\n",
       "        vertical-align: top;\n",
       "    }\n",
       "\n",
       "    .dataframe thead th {\n",
       "        text-align: right;\n",
       "    }\n",
       "</style>\n",
       "<table border=\"1\" class=\"dataframe\">\n",
       "  <thead>\n",
       "    <tr style=\"text-align: right;\">\n",
       "      <th></th>\n",
       "      <th>CustomerKey</th>\n",
       "      <th>YearlyIncome</th>\n",
       "      <th>NumberChildrenAtHome</th>\n",
       "      <th>EnglishEducation</th>\n",
       "      <th>EnglishOccupation</th>\n",
       "      <th>HouseOwnerFlag</th>\n",
       "      <th>DateFirstPurchase</th>\n",
       "      <th>Age</th>\n",
       "      <th>Recency</th>\n",
       "      <th>Frequency</th>\n",
       "      <th>Total_Sales</th>\n",
       "    </tr>\n",
       "  </thead>\n",
       "  <tbody>\n",
       "    <tr>\n",
       "      <th>0</th>\n",
       "      <td>11000</td>\n",
       "      <td>90000.0</td>\n",
       "      <td>0</td>\n",
       "      <td>Bachelors</td>\n",
       "      <td>Professional</td>\n",
       "      <td>1</td>\n",
       "      <td>2011-01-19</td>\n",
       "      <td>43</td>\n",
       "      <td>272</td>\n",
       "      <td>3</td>\n",
       "      <td>8248.9900</td>\n",
       "    </tr>\n",
       "    <tr>\n",
       "      <th>1</th>\n",
       "      <td>11001</td>\n",
       "      <td>60000.0</td>\n",
       "      <td>3</td>\n",
       "      <td>Bachelors</td>\n",
       "      <td>Professional</td>\n",
       "      <td>0</td>\n",
       "      <td>2011-01-15</td>\n",
       "      <td>38</td>\n",
       "      <td>51</td>\n",
       "      <td>3</td>\n",
       "      <td>6383.8800</td>\n",
       "    </tr>\n",
       "    <tr>\n",
       "      <th>2</th>\n",
       "      <td>11002</td>\n",
       "      <td>60000.0</td>\n",
       "      <td>3</td>\n",
       "      <td>Bachelors</td>\n",
       "      <td>Professional</td>\n",
       "      <td>1</td>\n",
       "      <td>2011-01-07</td>\n",
       "      <td>43</td>\n",
       "      <td>341</td>\n",
       "      <td>3</td>\n",
       "      <td>8114.0400</td>\n",
       "    </tr>\n",
       "    <tr>\n",
       "      <th>3</th>\n",
       "      <td>11003</td>\n",
       "      <td>70000.0</td>\n",
       "      <td>0</td>\n",
       "      <td>Bachelors</td>\n",
       "      <td>Professional</td>\n",
       "      <td>0</td>\n",
       "      <td>2010-12-29</td>\n",
       "      <td>41</td>\n",
       "      <td>265</td>\n",
       "      <td>3</td>\n",
       "      <td>8139.2900</td>\n",
       "    </tr>\n",
       "    <tr>\n",
       "      <th>4</th>\n",
       "      <td>11004</td>\n",
       "      <td>80000.0</td>\n",
       "      <td>5</td>\n",
       "      <td>Bachelors</td>\n",
       "      <td>Professional</td>\n",
       "      <td>1</td>\n",
       "      <td>2011-01-23</td>\n",
       "      <td>35</td>\n",
       "      <td>274</td>\n",
       "      <td>3</td>\n",
       "      <td>8196.0100</td>\n",
       "    </tr>\n",
       "    <tr>\n",
       "      <th>...</th>\n",
       "      <td>...</td>\n",
       "      <td>...</td>\n",
       "      <td>...</td>\n",
       "      <td>...</td>\n",
       "      <td>...</td>\n",
       "      <td>...</td>\n",
       "      <td>...</td>\n",
       "      <td>...</td>\n",
       "      <td>...</td>\n",
       "      <td>...</td>\n",
       "      <td>...</td>\n",
       "    </tr>\n",
       "    <tr>\n",
       "      <th>18479</th>\n",
       "      <td>29479</td>\n",
       "      <td>30000.0</td>\n",
       "      <td>0</td>\n",
       "      <td>Graduate Degree</td>\n",
       "      <td>Clerical</td>\n",
       "      <td>1</td>\n",
       "      <td>2012-09-04</td>\n",
       "      <td>45</td>\n",
       "      <td>513</td>\n",
       "      <td>1</td>\n",
       "      <td>2049.0982</td>\n",
       "    </tr>\n",
       "    <tr>\n",
       "      <th>18480</th>\n",
       "      <td>29480</td>\n",
       "      <td>30000.0</td>\n",
       "      <td>0</td>\n",
       "      <td>Graduate Degree</td>\n",
       "      <td>Clerical</td>\n",
       "      <td>1</td>\n",
       "      <td>2013-07-17</td>\n",
       "      <td>37</td>\n",
       "      <td>197</td>\n",
       "      <td>1</td>\n",
       "      <td>2442.0300</td>\n",
       "    </tr>\n",
       "    <tr>\n",
       "      <th>18481</th>\n",
       "      <td>29481</td>\n",
       "      <td>30000.0</td>\n",
       "      <td>0</td>\n",
       "      <td>Graduate Degree</td>\n",
       "      <td>Clerical</td>\n",
       "      <td>0</td>\n",
       "      <td>2011-08-13</td>\n",
       "      <td>49</td>\n",
       "      <td>901</td>\n",
       "      <td>1</td>\n",
       "      <td>3374.9900</td>\n",
       "    </tr>\n",
       "    <tr>\n",
       "      <th>18482</th>\n",
       "      <td>29482</td>\n",
       "      <td>30000.0</td>\n",
       "      <td>0</td>\n",
       "      <td>Bachelors</td>\n",
       "      <td>Clerical</td>\n",
       "      <td>1</td>\n",
       "      <td>2012-09-18</td>\n",
       "      <td>50</td>\n",
       "      <td>499</td>\n",
       "      <td>1</td>\n",
       "      <td>2049.0982</td>\n",
       "    </tr>\n",
       "    <tr>\n",
       "      <th>18483</th>\n",
       "      <td>29483</td>\n",
       "      <td>30000.0</td>\n",
       "      <td>0</td>\n",
       "      <td>Bachelors</td>\n",
       "      <td>Clerical</td>\n",
       "      <td>1</td>\n",
       "      <td>2012-09-09</td>\n",
       "      <td>49</td>\n",
       "      <td>508</td>\n",
       "      <td>1</td>\n",
       "      <td>2049.0982</td>\n",
       "    </tr>\n",
       "  </tbody>\n",
       "</table>\n",
       "<p>18484 rows × 11 columns</p>\n",
       "</div>"
      ],
      "text/plain": [
       "       CustomerKey  YearlyIncome  NumberChildrenAtHome EnglishEducation  \\\n",
       "0            11000       90000.0                     0        Bachelors   \n",
       "1            11001       60000.0                     3        Bachelors   \n",
       "2            11002       60000.0                     3        Bachelors   \n",
       "3            11003       70000.0                     0        Bachelors   \n",
       "4            11004       80000.0                     5        Bachelors   \n",
       "...            ...           ...                   ...              ...   \n",
       "18479        29479       30000.0                     0  Graduate Degree   \n",
       "18480        29480       30000.0                     0  Graduate Degree   \n",
       "18481        29481       30000.0                     0  Graduate Degree   \n",
       "18482        29482       30000.0                     0        Bachelors   \n",
       "18483        29483       30000.0                     0        Bachelors   \n",
       "\n",
       "      EnglishOccupation  HouseOwnerFlag DateFirstPurchase  Age  Recency  \\\n",
       "0          Professional               1        2011-01-19   43      272   \n",
       "1          Professional               0        2011-01-15   38       51   \n",
       "2          Professional               1        2011-01-07   43      341   \n",
       "3          Professional               0        2010-12-29   41      265   \n",
       "4          Professional               1        2011-01-23   35      274   \n",
       "...                 ...             ...               ...  ...      ...   \n",
       "18479          Clerical               1        2012-09-04   45      513   \n",
       "18480          Clerical               1        2013-07-17   37      197   \n",
       "18481          Clerical               0        2011-08-13   49      901   \n",
       "18482          Clerical               1        2012-09-18   50      499   \n",
       "18483          Clerical               1        2012-09-09   49      508   \n",
       "\n",
       "       Frequency  Total_Sales  \n",
       "0              3    8248.9900  \n",
       "1              3    6383.8800  \n",
       "2              3    8114.0400  \n",
       "3              3    8139.2900  \n",
       "4              3    8196.0100  \n",
       "...          ...          ...  \n",
       "18479          1    2049.0982  \n",
       "18480          1    2442.0300  \n",
       "18481          1    3374.9900  \n",
       "18482          1    2049.0982  \n",
       "18483          1    2049.0982  \n",
       "\n",
       "[18484 rows x 11 columns]"
      ]
     },
     "execution_count": 33,
     "metadata": {},
     "output_type": "execute_result"
    }
   ],
   "source": [
    "cst_rfm"
   ]
  },
  {
   "cell_type": "code",
   "execution_count": 34,
   "id": "9e30c5ae",
   "metadata": {},
   "outputs": [],
   "source": [
    "cst_rfm[\"DateFirstPurchase\"]=pd.to_datetime(cst_rfm[\"DateFirstPurchase\"])"
   ]
  },
  {
   "cell_type": "code",
   "execution_count": 35,
   "id": "92d50dd5",
   "metadata": {},
   "outputs": [],
   "source": [
    "# First purchase and last purchase\n",
    "present_date=dt.datetime(2014,1,30)\n"
   ]
  },
  {
   "cell_type": "code",
   "execution_count": 36,
   "id": "65de9b7b",
   "metadata": {},
   "outputs": [],
   "source": [
    "cst_rfm[\"First_Purchase\"]=present_date-cst_rfm[\"DateFirstPurchase\"]\n"
   ]
  },
  {
   "cell_type": "code",
   "execution_count": 37,
   "id": "5fe1c851",
   "metadata": {},
   "outputs": [],
   "source": [
    "cst_rfm.drop(\"DateFirstPurchase\",axis=1,inplace=True)"
   ]
  },
  {
   "cell_type": "code",
   "execution_count": 38,
   "id": "8a92135c",
   "metadata": {},
   "outputs": [],
   "source": [
    "cst_rfm[\"First_Purchase\"]=cst_rfm[\"First_Purchase\"].apply(lambda x: int(str(x).split(\" \")[0]))"
   ]
  },
  {
   "cell_type": "markdown",
   "id": "e6d08758",
   "metadata": {},
   "source": [
    "### Products Data"
   ]
  },
  {
   "cell_type": "markdown",
   "id": "30bdbc60",
   "metadata": {},
   "source": [
    "The products classified as products,product category and products sub category"
   ]
  },
  {
   "cell_type": "code",
   "execution_count": 143,
   "id": "777bcb84",
   "metadata": {},
   "outputs": [],
   "source": [
    "# missing values in the products category is considered as other\n",
    "pdc_df.loc[4]=[5,\"Other\"]"
   ]
  },
  {
   "cell_type": "code",
   "execution_count": 41,
   "id": "67a363b1",
   "metadata": {},
   "outputs": [],
   "source": [
    "# Products subcategory is also having missing value so imputted with new value \n",
    "pd_df[\"ProductSubcategoryKey\"].fillna(38,inplace=True)"
   ]
  },
  {
   "cell_type": "code",
   "execution_count": 42,
   "id": "c8f8dd15",
   "metadata": {},
   "outputs": [],
   "source": [
    "pdsc_df.loc[37]=[38,\"Other\",5]"
   ]
  },
  {
   "cell_type": "code",
   "execution_count": 43,
   "id": "4ad8784f",
   "metadata": {},
   "outputs": [],
   "source": [
    "# Merging the all the products table and creating a new DataFrame\n",
    "pd_ct_df=pdsc_df.merge(pdc_df,on=\"ProductCategoryKey\",how=\"left\")\n",
    "product_tbl=pd_ct_df.merge(pd_df,on=\"ProductSubcategoryKey\")"
   ]
  },
  {
   "cell_type": "code",
   "execution_count": 44,
   "id": "3431ddc3",
   "metadata": {},
   "outputs": [
    {
     "data": {
      "text/html": [
       "<div>\n",
       "<style scoped>\n",
       "    .dataframe tbody tr th:only-of-type {\n",
       "        vertical-align: middle;\n",
       "    }\n",
       "\n",
       "    .dataframe tbody tr th {\n",
       "        vertical-align: top;\n",
       "    }\n",
       "\n",
       "    .dataframe thead th {\n",
       "        text-align: right;\n",
       "    }\n",
       "</style>\n",
       "<table border=\"1\" class=\"dataframe\">\n",
       "  <thead>\n",
       "    <tr style=\"text-align: right;\">\n",
       "      <th></th>\n",
       "      <th>ProductSubcategoryKey</th>\n",
       "      <th>EnglishProductSubcategoryName</th>\n",
       "      <th>ProductCategoryKey</th>\n",
       "      <th>EnglishProductCategoryName</th>\n",
       "      <th>ProductKey</th>\n",
       "      <th>ProductAlternateKey</th>\n",
       "      <th>EnglishProductName</th>\n",
       "      <th>EnglishDescription</th>\n",
       "    </tr>\n",
       "  </thead>\n",
       "  <tbody>\n",
       "    <tr>\n",
       "      <th>0</th>\n",
       "      <td>1</td>\n",
       "      <td>Mountain Bikes</td>\n",
       "      <td>1</td>\n",
       "      <td>Bikes</td>\n",
       "      <td>344</td>\n",
       "      <td>BK-M82S-38</td>\n",
       "      <td>Mountain-100 Silver, 38</td>\n",
       "      <td>Top-of-the-line competition mountain bike. Per...</td>\n",
       "    </tr>\n",
       "    <tr>\n",
       "      <th>1</th>\n",
       "      <td>1</td>\n",
       "      <td>Mountain Bikes</td>\n",
       "      <td>1</td>\n",
       "      <td>Bikes</td>\n",
       "      <td>345</td>\n",
       "      <td>BK-M82S-42</td>\n",
       "      <td>Mountain-100 Silver, 42</td>\n",
       "      <td>Top-of-the-line competition mountain bike. Per...</td>\n",
       "    </tr>\n",
       "    <tr>\n",
       "      <th>2</th>\n",
       "      <td>1</td>\n",
       "      <td>Mountain Bikes</td>\n",
       "      <td>1</td>\n",
       "      <td>Bikes</td>\n",
       "      <td>346</td>\n",
       "      <td>BK-M82S-44</td>\n",
       "      <td>Mountain-100 Silver, 44</td>\n",
       "      <td>Top-of-the-line competition mountain bike. Per...</td>\n",
       "    </tr>\n",
       "    <tr>\n",
       "      <th>3</th>\n",
       "      <td>1</td>\n",
       "      <td>Mountain Bikes</td>\n",
       "      <td>1</td>\n",
       "      <td>Bikes</td>\n",
       "      <td>347</td>\n",
       "      <td>BK-M82S-48</td>\n",
       "      <td>Mountain-100 Silver, 48</td>\n",
       "      <td>Top-of-the-line competition mountain bike. Per...</td>\n",
       "    </tr>\n",
       "    <tr>\n",
       "      <th>4</th>\n",
       "      <td>1</td>\n",
       "      <td>Mountain Bikes</td>\n",
       "      <td>1</td>\n",
       "      <td>Bikes</td>\n",
       "      <td>348</td>\n",
       "      <td>BK-M82B-38</td>\n",
       "      <td>Mountain-100 Black, 38</td>\n",
       "      <td>Top-of-the-line competition mountain bike. Per...</td>\n",
       "    </tr>\n",
       "    <tr>\n",
       "      <th>...</th>\n",
       "      <td>...</td>\n",
       "      <td>...</td>\n",
       "      <td>...</td>\n",
       "      <td>...</td>\n",
       "      <td>...</td>\n",
       "      <td>...</td>\n",
       "      <td>...</td>\n",
       "      <td>...</td>\n",
       "    </tr>\n",
       "    <tr>\n",
       "      <th>601</th>\n",
       "      <td>38</td>\n",
       "      <td>Other</td>\n",
       "      <td>5</td>\n",
       "      <td>Other</td>\n",
       "      <td>205</td>\n",
       "      <td>SS-2985</td>\n",
       "      <td>Seat Stays</td>\n",
       "      <td>NaN</td>\n",
       "    </tr>\n",
       "    <tr>\n",
       "      <th>602</th>\n",
       "      <td>38</td>\n",
       "      <td>Other</td>\n",
       "      <td>5</td>\n",
       "      <td>Other</td>\n",
       "      <td>206</td>\n",
       "      <td>ST-9828</td>\n",
       "      <td>Seat Tube</td>\n",
       "      <td>NaN</td>\n",
       "    </tr>\n",
       "    <tr>\n",
       "      <th>603</th>\n",
       "      <td>38</td>\n",
       "      <td>Other</td>\n",
       "      <td>5</td>\n",
       "      <td>Other</td>\n",
       "      <td>207</td>\n",
       "      <td>TO-2301</td>\n",
       "      <td>Top Tube</td>\n",
       "      <td>NaN</td>\n",
       "    </tr>\n",
       "    <tr>\n",
       "      <th>604</th>\n",
       "      <td>38</td>\n",
       "      <td>Other</td>\n",
       "      <td>5</td>\n",
       "      <td>Other</td>\n",
       "      <td>208</td>\n",
       "      <td>TP-0923</td>\n",
       "      <td>Tension Pulley</td>\n",
       "      <td>NaN</td>\n",
       "    </tr>\n",
       "    <tr>\n",
       "      <th>605</th>\n",
       "      <td>38</td>\n",
       "      <td>Other</td>\n",
       "      <td>5</td>\n",
       "      <td>Other</td>\n",
       "      <td>209</td>\n",
       "      <td>RC-0291</td>\n",
       "      <td>Rear Derailleur Cage</td>\n",
       "      <td>NaN</td>\n",
       "    </tr>\n",
       "  </tbody>\n",
       "</table>\n",
       "<p>606 rows × 8 columns</p>\n",
       "</div>"
      ],
      "text/plain": [
       "     ProductSubcategoryKey EnglishProductSubcategoryName  ProductCategoryKey  \\\n",
       "0                        1                Mountain Bikes                   1   \n",
       "1                        1                Mountain Bikes                   1   \n",
       "2                        1                Mountain Bikes                   1   \n",
       "3                        1                Mountain Bikes                   1   \n",
       "4                        1                Mountain Bikes                   1   \n",
       "..                     ...                           ...                 ...   \n",
       "601                     38                         Other                   5   \n",
       "602                     38                         Other                   5   \n",
       "603                     38                         Other                   5   \n",
       "604                     38                         Other                   5   \n",
       "605                     38                         Other                   5   \n",
       "\n",
       "    EnglishProductCategoryName  ProductKey ProductAlternateKey  \\\n",
       "0                        Bikes         344          BK-M82S-38   \n",
       "1                        Bikes         345          BK-M82S-42   \n",
       "2                        Bikes         346          BK-M82S-44   \n",
       "3                        Bikes         347          BK-M82S-48   \n",
       "4                        Bikes         348          BK-M82B-38   \n",
       "..                         ...         ...                 ...   \n",
       "601                      Other         205             SS-2985   \n",
       "602                      Other         206             ST-9828   \n",
       "603                      Other         207             TO-2301   \n",
       "604                      Other         208             TP-0923   \n",
       "605                      Other         209             RC-0291   \n",
       "\n",
       "          EnglishProductName  \\\n",
       "0    Mountain-100 Silver, 38   \n",
       "1    Mountain-100 Silver, 42   \n",
       "2    Mountain-100 Silver, 44   \n",
       "3    Mountain-100 Silver, 48   \n",
       "4     Mountain-100 Black, 38   \n",
       "..                       ...   \n",
       "601               Seat Stays   \n",
       "602                Seat Tube   \n",
       "603                 Top Tube   \n",
       "604           Tension Pulley   \n",
       "605     Rear Derailleur Cage   \n",
       "\n",
       "                                    EnglishDescription  \n",
       "0    Top-of-the-line competition mountain bike. Per...  \n",
       "1    Top-of-the-line competition mountain bike. Per...  \n",
       "2    Top-of-the-line competition mountain bike. Per...  \n",
       "3    Top-of-the-line competition mountain bike. Per...  \n",
       "4    Top-of-the-line competition mountain bike. Per...  \n",
       "..                                                 ...  \n",
       "601                                                NaN  \n",
       "602                                                NaN  \n",
       "603                                                NaN  \n",
       "604                                                NaN  \n",
       "605                                                NaN  \n",
       "\n",
       "[606 rows x 8 columns]"
      ]
     },
     "execution_count": 44,
     "metadata": {},
     "output_type": "execute_result"
    }
   ],
   "source": [
    "product_tbl"
   ]
  },
  {
   "cell_type": "markdown",
   "id": "090e360c",
   "metadata": {},
   "source": [
    "### Creating a DataFrame "
   ]
  },
  {
   "cell_type": "code",
   "execution_count": 45,
   "id": "435990d4",
   "metadata": {},
   "outputs": [],
   "source": [
    "int_sales=int_sales.merge(product_tbl[[\"ProductKey\",\"EnglishProductCategoryName\"]])"
   ]
  },
  {
   "cell_type": "code",
   "execution_count": 46,
   "id": "3a067f3a",
   "metadata": {},
   "outputs": [
    {
     "data": {
      "text/plain": [
       "Accessories    36092\n",
       "Bikes          15205\n",
       "Clothing        9101\n",
       "Name: EnglishProductCategoryName, dtype: int64"
      ]
     },
     "execution_count": 46,
     "metadata": {},
     "output_type": "execute_result"
    }
   ],
   "source": [
    "int_sales[\"EnglishProductCategoryName\"].value_counts()"
   ]
  },
  {
   "cell_type": "code",
   "execution_count": 47,
   "id": "b8f52ee7",
   "metadata": {
    "scrolled": true
   },
   "outputs": [
    {
     "data": {
      "text/plain": [
       "<AxesSubplot:ylabel='Frequency'>"
      ]
     },
     "execution_count": 47,
     "metadata": {},
     "output_type": "execute_result"
    },
    {
     "data": {
      "image/png": "[encoded data removed]",
      "text/plain": [
       "<Figure size 576x396 with 1 Axes>"
      ]
     },
     "metadata": {},
     "output_type": "display_data"
    }
   ],
   "source": [
    "# There are 5 categories in the products table and we can see only 3 categories. To verify this we can plot a histogram\n",
    "int_sales[\"ProductKey\"].plot(kind=\"hist\")"
   ]
  },
  {
   "cell_type": "markdown",
   "id": "d198a60a",
   "metadata": {},
   "source": [
    "It`s clearly seen that there are missing values between 250 to 300 and 400 to 450. So this is the reason for getting only three Categories"
   ]
  },
  {
   "cell_type": "markdown",
   "id": "52414b2d",
   "metadata": {},
   "source": [
    "# Grouping the different entries that correspond to the same user."
   ]
  },
  {
   "cell_type": "code",
   "execution_count": 50,
   "id": "4e503283",
   "metadata": {},
   "outputs": [],
   "source": [
    "for i in int_sales[\"EnglishProductCategoryName\"].unique():\n",
    "    col=i+\"_\"\n",
    "    x=int_sales.loc[int_sales[\"EnglishProductCategoryName\"]==i].groupby([\"CustomerKey\"])[\"SalesAmount\"].sum().reset_index(name=i+\"_\")\n",
    "    cst_rfm=cst_rfm.merge(x,on=\"CustomerKey\",how=\"left\")\n",
    "    try:\n",
    "        cst_rfm[col]=(cst_rfm[col]/cst_rfm[\"Total_Sales\"])*100\n",
    "    except:\n",
    "        cst_rfm[col]=0"
   ]
  },
  {
   "cell_type": "code",
   "execution_count": 52,
   "id": "b6b34de0",
   "metadata": {},
   "outputs": [],
   "source": [
    "transactions_per_user=int_sales.groupby(\"CustomerKey\")[\"SalesAmount\"].agg([\"mean\",\"min\",\"max\"]).reset_index()\n",
    "\n",
    "cst_rfm=cst_rfm.merge(transactions_per_user)"
   ]
  },
  {
   "cell_type": "code",
   "execution_count": 53,
   "id": "46faf364",
   "metadata": {},
   "outputs": [
    {
     "data": {
      "text/html": [
       "<div>\n",
       "<style scoped>\n",
       "    .dataframe tbody tr th:only-of-type {\n",
       "        vertical-align: middle;\n",
       "    }\n",
       "\n",
       "    .dataframe tbody tr th {\n",
       "        vertical-align: top;\n",
       "    }\n",
       "\n",
       "    .dataframe thead th {\n",
       "        text-align: right;\n",
       "    }\n",
       "</style>\n",
       "<table border=\"1\" class=\"dataframe\">\n",
       "  <thead>\n",
       "    <tr style=\"text-align: right;\">\n",
       "      <th></th>\n",
       "      <th>CustomerKey</th>\n",
       "      <th>YearlyIncome</th>\n",
       "      <th>NumberChildrenAtHome</th>\n",
       "      <th>EnglishEducation</th>\n",
       "      <th>EnglishOccupation</th>\n",
       "      <th>HouseOwnerFlag</th>\n",
       "      <th>Age</th>\n",
       "      <th>Recency</th>\n",
       "      <th>Frequency</th>\n",
       "      <th>Total_Sales</th>\n",
       "      <th>First_Purchase</th>\n",
       "      <th>Bikes_</th>\n",
       "      <th>Accessories_</th>\n",
       "      <th>Clothing_</th>\n",
       "      <th>mean</th>\n",
       "      <th>min</th>\n",
       "      <th>max</th>\n",
       "    </tr>\n",
       "  </thead>\n",
       "  <tbody>\n",
       "    <tr>\n",
       "      <th>0</th>\n",
       "      <td>11000</td>\n",
       "      <td>90000.0</td>\n",
       "      <td>0</td>\n",
       "      <td>Bachelors</td>\n",
       "      <td>Professional</td>\n",
       "      <td>1</td>\n",
       "      <td>43</td>\n",
       "      <td>272</td>\n",
       "      <td>3</td>\n",
       "      <td>8248.9900</td>\n",
       "      <td>1107</td>\n",
       "      <td>98.242936</td>\n",
       "      <td>1.102559</td>\n",
       "      <td>0.654504</td>\n",
       "      <td>1031.123750</td>\n",
       "      <td>4.9900</td>\n",
       "      <td>3399.9900</td>\n",
       "    </tr>\n",
       "    <tr>\n",
       "      <th>1</th>\n",
       "      <td>11001</td>\n",
       "      <td>60000.0</td>\n",
       "      <td>3</td>\n",
       "      <td>Bachelors</td>\n",
       "      <td>Professional</td>\n",
       "      <td>0</td>\n",
       "      <td>38</td>\n",
       "      <td>51</td>\n",
       "      <td>3</td>\n",
       "      <td>6383.8800</td>\n",
       "      <td>1111</td>\n",
       "      <td>97.667406</td>\n",
       "      <td>1.346047</td>\n",
       "      <td>0.986547</td>\n",
       "      <td>580.352727</td>\n",
       "      <td>4.9900</td>\n",
       "      <td>3374.9900</td>\n",
       "    </tr>\n",
       "    <tr>\n",
       "      <th>2</th>\n",
       "      <td>11002</td>\n",
       "      <td>60000.0</td>\n",
       "      <td>3</td>\n",
       "      <td>Bachelors</td>\n",
       "      <td>Professional</td>\n",
       "      <td>1</td>\n",
       "      <td>43</td>\n",
       "      <td>341</td>\n",
       "      <td>3</td>\n",
       "      <td>8114.0400</td>\n",
       "      <td>1119</td>\n",
       "      <td>99.568772</td>\n",
       "      <td>0.431228</td>\n",
       "      <td>NaN</td>\n",
       "      <td>2028.510000</td>\n",
       "      <td>34.9900</td>\n",
       "      <td>3399.9900</td>\n",
       "    </tr>\n",
       "    <tr>\n",
       "      <th>3</th>\n",
       "      <td>11003</td>\n",
       "      <td>70000.0</td>\n",
       "      <td>0</td>\n",
       "      <td>Bachelors</td>\n",
       "      <td>Professional</td>\n",
       "      <td>0</td>\n",
       "      <td>41</td>\n",
       "      <td>265</td>\n",
       "      <td>3</td>\n",
       "      <td>8139.2900</td>\n",
       "      <td>1128</td>\n",
       "      <td>99.259886</td>\n",
       "      <td>0.629662</td>\n",
       "      <td>0.110452</td>\n",
       "      <td>904.365556</td>\n",
       "      <td>2.2900</td>\n",
       "      <td>3399.9900</td>\n",
       "    </tr>\n",
       "    <tr>\n",
       "      <th>4</th>\n",
       "      <td>11004</td>\n",
       "      <td>80000.0</td>\n",
       "      <td>5</td>\n",
       "      <td>Bachelors</td>\n",
       "      <td>Professional</td>\n",
       "      <td>1</td>\n",
       "      <td>35</td>\n",
       "      <td>274</td>\n",
       "      <td>3</td>\n",
       "      <td>8196.0100</td>\n",
       "      <td>1103</td>\n",
       "      <td>98.877991</td>\n",
       "      <td>1.122009</td>\n",
       "      <td>NaN</td>\n",
       "      <td>1366.001667</td>\n",
       "      <td>21.9800</td>\n",
       "      <td>3399.9900</td>\n",
       "    </tr>\n",
       "    <tr>\n",
       "      <th>...</th>\n",
       "      <td>...</td>\n",
       "      <td>...</td>\n",
       "      <td>...</td>\n",
       "      <td>...</td>\n",
       "      <td>...</td>\n",
       "      <td>...</td>\n",
       "      <td>...</td>\n",
       "      <td>...</td>\n",
       "      <td>...</td>\n",
       "      <td>...</td>\n",
       "      <td>...</td>\n",
       "      <td>...</td>\n",
       "      <td>...</td>\n",
       "      <td>...</td>\n",
       "      <td>...</td>\n",
       "      <td>...</td>\n",
       "      <td>...</td>\n",
       "    </tr>\n",
       "    <tr>\n",
       "      <th>18479</th>\n",
       "      <td>29479</td>\n",
       "      <td>30000.0</td>\n",
       "      <td>0</td>\n",
       "      <td>Graduate Degree</td>\n",
       "      <td>Clerical</td>\n",
       "      <td>1</td>\n",
       "      <td>45</td>\n",
       "      <td>513</td>\n",
       "      <td>1</td>\n",
       "      <td>2049.0982</td>\n",
       "      <td>513</td>\n",
       "      <td>100.000000</td>\n",
       "      <td>NaN</td>\n",
       "      <td>NaN</td>\n",
       "      <td>2049.098200</td>\n",
       "      <td>2049.0982</td>\n",
       "      <td>2049.0982</td>\n",
       "    </tr>\n",
       "    <tr>\n",
       "      <th>18480</th>\n",
       "      <td>29480</td>\n",
       "      <td>30000.0</td>\n",
       "      <td>0</td>\n",
       "      <td>Graduate Degree</td>\n",
       "      <td>Clerical</td>\n",
       "      <td>1</td>\n",
       "      <td>37</td>\n",
       "      <td>197</td>\n",
       "      <td>1</td>\n",
       "      <td>2442.0300</td>\n",
       "      <td>197</td>\n",
       "      <td>97.626565</td>\n",
       "      <td>2.005299</td>\n",
       "      <td>0.368136</td>\n",
       "      <td>488.406000</td>\n",
       "      <td>4.9900</td>\n",
       "      <td>2384.0700</td>\n",
       "    </tr>\n",
       "    <tr>\n",
       "      <th>18481</th>\n",
       "      <td>29481</td>\n",
       "      <td>30000.0</td>\n",
       "      <td>0</td>\n",
       "      <td>Graduate Degree</td>\n",
       "      <td>Clerical</td>\n",
       "      <td>0</td>\n",
       "      <td>49</td>\n",
       "      <td>901</td>\n",
       "      <td>1</td>\n",
       "      <td>3374.9900</td>\n",
       "      <td>901</td>\n",
       "      <td>100.000000</td>\n",
       "      <td>NaN</td>\n",
       "      <td>NaN</td>\n",
       "      <td>3374.990000</td>\n",
       "      <td>3374.9900</td>\n",
       "      <td>3374.9900</td>\n",
       "    </tr>\n",
       "    <tr>\n",
       "      <th>18482</th>\n",
       "      <td>29482</td>\n",
       "      <td>30000.0</td>\n",
       "      <td>0</td>\n",
       "      <td>Bachelors</td>\n",
       "      <td>Clerical</td>\n",
       "      <td>1</td>\n",
       "      <td>50</td>\n",
       "      <td>499</td>\n",
       "      <td>1</td>\n",
       "      <td>2049.0982</td>\n",
       "      <td>499</td>\n",
       "      <td>100.000000</td>\n",
       "      <td>NaN</td>\n",
       "      <td>NaN</td>\n",
       "      <td>2049.098200</td>\n",
       "      <td>2049.0982</td>\n",
       "      <td>2049.0982</td>\n",
       "    </tr>\n",
       "    <tr>\n",
       "      <th>18483</th>\n",
       "      <td>29483</td>\n",
       "      <td>30000.0</td>\n",
       "      <td>0</td>\n",
       "      <td>Bachelors</td>\n",
       "      <td>Clerical</td>\n",
       "      <td>1</td>\n",
       "      <td>49</td>\n",
       "      <td>508</td>\n",
       "      <td>1</td>\n",
       "      <td>2049.0982</td>\n",
       "      <td>508</td>\n",
       "      <td>100.000000</td>\n",
       "      <td>NaN</td>\n",
       "      <td>NaN</td>\n",
       "      <td>2049.098200</td>\n",
       "      <td>2049.0982</td>\n",
       "      <td>2049.0982</td>\n",
       "    </tr>\n",
       "  </tbody>\n",
       "</table>\n",
       "<p>18484 rows × 17 columns</p>\n",
       "</div>"
      ],
      "text/plain": [
       "       CustomerKey  YearlyIncome  NumberChildrenAtHome EnglishEducation  \\\n",
       "0            11000       90000.0                     0        Bachelors   \n",
       "1            11001       60000.0                     3        Bachelors   \n",
       "2            11002       60000.0                     3        Bachelors   \n",
       "3            11003       70000.0                     0        Bachelors   \n",
       "4            11004       80000.0                     5        Bachelors   \n",
       "...            ...           ...                   ...              ...   \n",
       "18479        29479       30000.0                     0  Graduate Degree   \n",
       "18480        29480       30000.0                     0  Graduate Degree   \n",
       "18481        29481       30000.0                     0  Graduate Degree   \n",
       "18482        29482       30000.0                     0        Bachelors   \n",
       "18483        29483       30000.0                     0        Bachelors   \n",
       "\n",
       "      EnglishOccupation  HouseOwnerFlag  Age  Recency  Frequency  Total_Sales  \\\n",
       "0          Professional               1   43      272          3    8248.9900   \n",
       "1          Professional               0   38       51          3    6383.8800   \n",
       "2          Professional               1   43      341          3    8114.0400   \n",
       "3          Professional               0   41      265          3    8139.2900   \n",
       "4          Professional               1   35      274          3    8196.0100   \n",
       "...                 ...             ...  ...      ...        ...          ...   \n",
       "18479          Clerical               1   45      513          1    2049.0982   \n",
       "18480          Clerical               1   37      197          1    2442.0300   \n",
       "18481          Clerical               0   49      901          1    3374.9900   \n",
       "18482          Clerical               1   50      499          1    2049.0982   \n",
       "18483          Clerical               1   49      508          1    2049.0982   \n",
       "\n",
       "       First_Purchase      Bikes_  Accessories_  Clothing_         mean  \\\n",
       "0                1107   98.242936      1.102559   0.654504  1031.123750   \n",
       "1                1111   97.667406      1.346047   0.986547   580.352727   \n",
       "2                1119   99.568772      0.431228        NaN  2028.510000   \n",
       "3                1128   99.259886      0.629662   0.110452   904.365556   \n",
       "4                1103   98.877991      1.122009        NaN  1366.001667   \n",
       "...               ...         ...           ...        ...          ...   \n",
       "18479             513  100.000000           NaN        NaN  2049.098200   \n",
       "18480             197   97.626565      2.005299   0.368136   488.406000   \n",
       "18481             901  100.000000           NaN        NaN  3374.990000   \n",
       "18482             499  100.000000           NaN        NaN  2049.098200   \n",
       "18483             508  100.000000           NaN        NaN  2049.098200   \n",
       "\n",
       "             min        max  \n",
       "0         4.9900  3399.9900  \n",
       "1         4.9900  3374.9900  \n",
       "2        34.9900  3399.9900  \n",
       "3         2.2900  3399.9900  \n",
       "4        21.9800  3399.9900  \n",
       "...          ...        ...  \n",
       "18479  2049.0982  2049.0982  \n",
       "18480     4.9900  2384.0700  \n",
       "18481  3374.9900  3374.9900  \n",
       "18482  2049.0982  2049.0982  \n",
       "18483  2049.0982  2049.0982  \n",
       "\n",
       "[18484 rows x 17 columns]"
      ]
     },
     "execution_count": 53,
     "metadata": {},
     "output_type": "execute_result"
    }
   ],
   "source": [
    "cst_rfm"
   ]
  },
  {
   "cell_type": "code",
   "execution_count": 54,
   "id": "bd8c9966",
   "metadata": {},
   "outputs": [
    {
     "data": {
      "text/plain": [
       "2"
      ]
     },
     "execution_count": 54,
     "metadata": {},
     "output_type": "execute_result"
    }
   ],
   "source": [
    "cst_rfm[\"First_Purchase\"].min()"
   ]
  },
  {
   "cell_type": "code",
   "execution_count": 55,
   "id": "e2df950a",
   "metadata": {},
   "outputs": [
    {
     "data": {
      "text/plain": [
       "1128"
      ]
     },
     "execution_count": 55,
     "metadata": {},
     "output_type": "execute_result"
    }
   ],
   "source": [
    "cst_rfm[\"First_Purchase\"].max()"
   ]
  },
  {
   "cell_type": "code",
   "execution_count": 56,
   "id": "d845bbfb",
   "metadata": {},
   "outputs": [],
   "source": [
    "cst_rfm[\"Accessories_\"].fillna(0,inplace=True)\n",
    "cst_rfm[\"Clothing_\"].fillna(0,inplace=True)\n",
    "cst_rfm[\"Bikes_\"].fillna(0,inplace=True)"
   ]
  },
  {
   "cell_type": "markdown",
   "id": "ad4be1ea",
   "metadata": {},
   "source": [
    "One root cause of this approach is to find out the customer who had only one time purchased and objective would be targeting those customers and retaining them back"
   ]
  },
  {
   "cell_type": "code",
   "execution_count": 57,
   "id": "0c5da44e",
   "metadata": {},
   "outputs": [
    {
     "name": "stdout",
     "output_type": "stream",
     "text": [
      "The customer who had only one time purchase 62.85977061242155\n"
     ]
    }
   ],
   "source": [
    "one_time_cst=cst_rfm.loc[cst_rfm[\"Frequency\"]==1].shape[0]\n",
    "total_cst=cst_rfm.shape[0]\n",
    "\n",
    "print(\"The customer who had only one time purchase\",one_time_cst/total_cst*100)"
   ]
  },
  {
   "cell_type": "code",
   "execution_count": 58,
   "id": "9894411e",
   "metadata": {},
   "outputs": [],
   "source": [
    "ref_data=cst_rfm.copy(deep=True)"
   ]
  },
  {
   "cell_type": "markdown",
   "id": "ca1fb26e",
   "metadata": {},
   "source": [
    "### Encoding and Scaling the data"
   ]
  },
  {
   "cell_type": "code",
   "execution_count": 60,
   "id": "ec1d30ee",
   "metadata": {},
   "outputs": [],
   "source": [
    "cst_rfm=pd.get_dummies(cst_rfm,prefix=\"dum\")"
   ]
  },
  {
   "cell_type": "code",
   "execution_count": 61,
   "id": "46343dde",
   "metadata": {},
   "outputs": [],
   "source": [
    "df = cst_rfm.copy(deep = True)\n"
   ]
  },
  {
   "cell_type": "code",
   "execution_count": 62,
   "id": "8cbc714f",
   "metadata": {},
   "outputs": [],
   "source": [
    "df=df.drop(\"CustomerKey\",axis=1)"
   ]
  },
  {
   "cell_type": "code",
   "execution_count": 63,
   "id": "7bf03563",
   "metadata": {},
   "outputs": [],
   "source": [
    "matrix = df.values"
   ]
  },
  {
   "cell_type": "code",
   "execution_count": 64,
   "id": "17bc01f4",
   "metadata": {},
   "outputs": [
    {
     "data": {
      "text/plain": [
       "array([[9.e+04, 0.e+00, 1.e+00, ..., 0.e+00, 1.e+00, 0.e+00],\n",
       "       [6.e+04, 3.e+00, 0.e+00, ..., 0.e+00, 1.e+00, 0.e+00],\n",
       "       [6.e+04, 3.e+00, 1.e+00, ..., 0.e+00, 1.e+00, 0.e+00],\n",
       "       ...,\n",
       "       [3.e+04, 0.e+00, 0.e+00, ..., 0.e+00, 0.e+00, 0.e+00],\n",
       "       [3.e+04, 0.e+00, 1.e+00, ..., 0.e+00, 0.e+00, 0.e+00],\n",
       "       [3.e+04, 0.e+00, 1.e+00, ..., 0.e+00, 0.e+00, 0.e+00]])"
      ]
     },
     "execution_count": 64,
     "metadata": {},
     "output_type": "execute_result"
    }
   ],
   "source": [
    "matrix"
   ]
  },
  {
   "cell_type": "code",
   "execution_count": 65,
   "id": "aa5f2121",
   "metadata": {},
   "outputs": [],
   "source": [
    "scaler = StandardScaler()\n",
    "scaler.fit(matrix)\n",
    "scaled_ds = pd.DataFrame(scaler.transform(matrix),columns= df.columns )"
   ]
  },
  {
   "cell_type": "code",
   "execution_count": 66,
   "id": "87b7ebae",
   "metadata": {},
   "outputs": [
    {
     "data": {
      "text/html": [
       "<div>\n",
       "<style scoped>\n",
       "    .dataframe tbody tr th:only-of-type {\n",
       "        vertical-align: middle;\n",
       "    }\n",
       "\n",
       "    .dataframe tbody tr th {\n",
       "        vertical-align: top;\n",
       "    }\n",
       "\n",
       "    .dataframe thead th {\n",
       "        text-align: right;\n",
       "    }\n",
       "</style>\n",
       "<table border=\"1\" class=\"dataframe\">\n",
       "  <thead>\n",
       "    <tr style=\"text-align: right;\">\n",
       "      <th></th>\n",
       "      <th>YearlyIncome</th>\n",
       "      <th>NumberChildrenAtHome</th>\n",
       "      <th>HouseOwnerFlag</th>\n",
       "      <th>Age</th>\n",
       "      <th>Recency</th>\n",
       "      <th>Frequency</th>\n",
       "      <th>Total_Sales</th>\n",
       "      <th>First_Purchase</th>\n",
       "      <th>Bikes_</th>\n",
       "      <th>Accessories_</th>\n",
       "      <th>...</th>\n",
       "      <th>dum_Bachelors</th>\n",
       "      <th>dum_Graduate Degree</th>\n",
       "      <th>dum_High School</th>\n",
       "      <th>dum_Partial College</th>\n",
       "      <th>dum_Partial High School</th>\n",
       "      <th>dum_Clerical</th>\n",
       "      <th>dum_Management</th>\n",
       "      <th>dum_Manual</th>\n",
       "      <th>dum_Professional</th>\n",
       "      <th>dum_Skilled Manual</th>\n",
       "    </tr>\n",
       "  </thead>\n",
       "  <tbody>\n",
       "    <tr>\n",
       "      <th>0</th>\n",
       "      <td>1.012676</td>\n",
       "      <td>-0.659428</td>\n",
       "      <td>0.691725</td>\n",
       "      <td>-0.188676</td>\n",
       "      <td>0.551442</td>\n",
       "      <td>1.365555</td>\n",
       "      <td>3.135647</td>\n",
       "      <td>2.736672</td>\n",
       "      <td>1.021076</td>\n",
       "      <td>-0.853990</td>\n",
       "      <td>...</td>\n",
       "      <td>1.565593</td>\n",
       "      <td>-0.456617</td>\n",
       "      <td>-0.465675</td>\n",
       "      <td>-0.614286</td>\n",
       "      <td>-0.305833</td>\n",
       "      <td>-0.433847</td>\n",
       "      <td>-0.44672</td>\n",
       "      <td>-0.384805</td>\n",
       "      <td>1.532498</td>\n",
       "      <td>-0.573685</td>\n",
       "    </tr>\n",
       "    <tr>\n",
       "      <th>1</th>\n",
       "      <td>0.083451</td>\n",
       "      <td>1.310862</td>\n",
       "      <td>-1.445661</td>\n",
       "      <td>-0.622108</td>\n",
       "      <td>-0.959310</td>\n",
       "      <td>1.365555</td>\n",
       "      <td>2.257607</td>\n",
       "      <td>2.751108</td>\n",
       "      <td>1.009311</td>\n",
       "      <td>-0.848563</td>\n",
       "      <td>...</td>\n",
       "      <td>1.565593</td>\n",
       "      <td>-0.456617</td>\n",
       "      <td>-0.465675</td>\n",
       "      <td>-0.614286</td>\n",
       "      <td>-0.305833</td>\n",
       "      <td>-0.433847</td>\n",
       "      <td>-0.44672</td>\n",
       "      <td>-0.384805</td>\n",
       "      <td>1.532498</td>\n",
       "      <td>-0.573685</td>\n",
       "    </tr>\n",
       "    <tr>\n",
       "      <th>2</th>\n",
       "      <td>0.083451</td>\n",
       "      <td>1.310862</td>\n",
       "      <td>0.691725</td>\n",
       "      <td>-0.188676</td>\n",
       "      <td>1.023125</td>\n",
       "      <td>1.365555</td>\n",
       "      <td>3.072117</td>\n",
       "      <td>2.779982</td>\n",
       "      <td>1.048181</td>\n",
       "      <td>-0.868953</td>\n",
       "      <td>...</td>\n",
       "      <td>1.565593</td>\n",
       "      <td>-0.456617</td>\n",
       "      <td>-0.465675</td>\n",
       "      <td>-0.614286</td>\n",
       "      <td>-0.305833</td>\n",
       "      <td>-0.433847</td>\n",
       "      <td>-0.44672</td>\n",
       "      <td>-0.384805</td>\n",
       "      <td>1.532498</td>\n",
       "      <td>-0.573685</td>\n",
       "    </tr>\n",
       "    <tr>\n",
       "      <th>3</th>\n",
       "      <td>0.393193</td>\n",
       "      <td>-0.659428</td>\n",
       "      <td>-1.445661</td>\n",
       "      <td>-0.362049</td>\n",
       "      <td>0.503590</td>\n",
       "      <td>1.365555</td>\n",
       "      <td>3.084003</td>\n",
       "      <td>2.812464</td>\n",
       "      <td>1.041867</td>\n",
       "      <td>-0.864530</td>\n",
       "      <td>...</td>\n",
       "      <td>1.565593</td>\n",
       "      <td>-0.456617</td>\n",
       "      <td>-0.465675</td>\n",
       "      <td>-0.614286</td>\n",
       "      <td>-0.305833</td>\n",
       "      <td>-0.433847</td>\n",
       "      <td>-0.44672</td>\n",
       "      <td>-0.384805</td>\n",
       "      <td>1.532498</td>\n",
       "      <td>-0.573685</td>\n",
       "    </tr>\n",
       "    <tr>\n",
       "      <th>4</th>\n",
       "      <td>0.702935</td>\n",
       "      <td>2.624389</td>\n",
       "      <td>0.691725</td>\n",
       "      <td>-0.882167</td>\n",
       "      <td>0.565114</td>\n",
       "      <td>1.365555</td>\n",
       "      <td>3.110706</td>\n",
       "      <td>2.722235</td>\n",
       "      <td>1.034059</td>\n",
       "      <td>-0.853556</td>\n",
       "      <td>...</td>\n",
       "      <td>1.565593</td>\n",
       "      <td>-0.456617</td>\n",
       "      <td>-0.465675</td>\n",
       "      <td>-0.614286</td>\n",
       "      <td>-0.305833</td>\n",
       "      <td>-0.433847</td>\n",
       "      <td>-0.44672</td>\n",
       "      <td>-0.384805</td>\n",
       "      <td>1.532498</td>\n",
       "      <td>-0.573685</td>\n",
       "    </tr>\n",
       "    <tr>\n",
       "      <th>...</th>\n",
       "      <td>...</td>\n",
       "      <td>...</td>\n",
       "      <td>...</td>\n",
       "      <td>...</td>\n",
       "      <td>...</td>\n",
       "      <td>...</td>\n",
       "      <td>...</td>\n",
       "      <td>...</td>\n",
       "      <td>...</td>\n",
       "      <td>...</td>\n",
       "      <td>...</td>\n",
       "      <td>...</td>\n",
       "      <td>...</td>\n",
       "      <td>...</td>\n",
       "      <td>...</td>\n",
       "      <td>...</td>\n",
       "      <td>...</td>\n",
       "      <td>...</td>\n",
       "      <td>...</td>\n",
       "      <td>...</td>\n",
       "      <td>...</td>\n",
       "    </tr>\n",
       "    <tr>\n",
       "      <th>18479</th>\n",
       "      <td>-0.845774</td>\n",
       "      <td>-0.659428</td>\n",
       "      <td>0.691725</td>\n",
       "      <td>-0.015303</td>\n",
       "      <td>2.198913</td>\n",
       "      <td>-0.450796</td>\n",
       "      <td>0.216917</td>\n",
       "      <td>0.592832</td>\n",
       "      <td>1.056997</td>\n",
       "      <td>-0.878565</td>\n",
       "      <td>...</td>\n",
       "      <td>-0.638735</td>\n",
       "      <td>2.190017</td>\n",
       "      <td>-0.465675</td>\n",
       "      <td>-0.614286</td>\n",
       "      <td>-0.305833</td>\n",
       "      <td>2.304960</td>\n",
       "      <td>-0.44672</td>\n",
       "      <td>-0.384805</td>\n",
       "      <td>-0.652529</td>\n",
       "      <td>-0.573685</td>\n",
       "    </tr>\n",
       "    <tr>\n",
       "      <th>18480</th>\n",
       "      <td>-0.845774</td>\n",
       "      <td>-0.659428</td>\n",
       "      <td>0.691725</td>\n",
       "      <td>-0.708794</td>\n",
       "      <td>0.038743</td>\n",
       "      <td>-0.450796</td>\n",
       "      <td>0.401898</td>\n",
       "      <td>-0.547662</td>\n",
       "      <td>1.008476</td>\n",
       "      <td>-0.833868</td>\n",
       "      <td>...</td>\n",
       "      <td>-0.638735</td>\n",
       "      <td>2.190017</td>\n",
       "      <td>-0.465675</td>\n",
       "      <td>-0.614286</td>\n",
       "      <td>-0.305833</td>\n",
       "      <td>2.304960</td>\n",
       "      <td>-0.44672</td>\n",
       "      <td>-0.384805</td>\n",
       "      <td>-0.652529</td>\n",
       "      <td>-0.573685</td>\n",
       "    </tr>\n",
       "    <tr>\n",
       "      <th>18481</th>\n",
       "      <td>-0.845774</td>\n",
       "      <td>-0.659428</td>\n",
       "      <td>-1.445661</td>\n",
       "      <td>0.331443</td>\n",
       "      <td>4.851274</td>\n",
       "      <td>-0.450796</td>\n",
       "      <td>0.841108</td>\n",
       "      <td>1.993185</td>\n",
       "      <td>1.056997</td>\n",
       "      <td>-0.878565</td>\n",
       "      <td>...</td>\n",
       "      <td>-0.638735</td>\n",
       "      <td>2.190017</td>\n",
       "      <td>-0.465675</td>\n",
       "      <td>-0.614286</td>\n",
       "      <td>-0.305833</td>\n",
       "      <td>2.304960</td>\n",
       "      <td>-0.44672</td>\n",
       "      <td>-0.384805</td>\n",
       "      <td>-0.652529</td>\n",
       "      <td>-0.573685</td>\n",
       "    </tr>\n",
       "    <tr>\n",
       "      <th>18482</th>\n",
       "      <td>-0.845774</td>\n",
       "      <td>-0.659428</td>\n",
       "      <td>0.691725</td>\n",
       "      <td>0.418129</td>\n",
       "      <td>2.103210</td>\n",
       "      <td>-0.450796</td>\n",
       "      <td>0.216917</td>\n",
       "      <td>0.542304</td>\n",
       "      <td>1.056997</td>\n",
       "      <td>-0.878565</td>\n",
       "      <td>...</td>\n",
       "      <td>1.565593</td>\n",
       "      <td>-0.456617</td>\n",
       "      <td>-0.465675</td>\n",
       "      <td>-0.614286</td>\n",
       "      <td>-0.305833</td>\n",
       "      <td>2.304960</td>\n",
       "      <td>-0.44672</td>\n",
       "      <td>-0.384805</td>\n",
       "      <td>-0.652529</td>\n",
       "      <td>-0.573685</td>\n",
       "    </tr>\n",
       "    <tr>\n",
       "      <th>18483</th>\n",
       "      <td>-0.845774</td>\n",
       "      <td>-0.659428</td>\n",
       "      <td>0.691725</td>\n",
       "      <td>0.331443</td>\n",
       "      <td>2.164734</td>\n",
       "      <td>-0.450796</td>\n",
       "      <td>0.216917</td>\n",
       "      <td>0.574786</td>\n",
       "      <td>1.056997</td>\n",
       "      <td>-0.878565</td>\n",
       "      <td>...</td>\n",
       "      <td>1.565593</td>\n",
       "      <td>-0.456617</td>\n",
       "      <td>-0.465675</td>\n",
       "      <td>-0.614286</td>\n",
       "      <td>-0.305833</td>\n",
       "      <td>2.304960</td>\n",
       "      <td>-0.44672</td>\n",
       "      <td>-0.384805</td>\n",
       "      <td>-0.652529</td>\n",
       "      <td>-0.573685</td>\n",
       "    </tr>\n",
       "  </tbody>\n",
       "</table>\n",
       "<p>18484 rows × 24 columns</p>\n",
       "</div>"
      ],
      "text/plain": [
       "       YearlyIncome  NumberChildrenAtHome  HouseOwnerFlag       Age   Recency  \\\n",
       "0          1.012676             -0.659428        0.691725 -0.188676  0.551442   \n",
       "1          0.083451              1.310862       -1.445661 -0.622108 -0.959310   \n",
       "2          0.083451              1.310862        0.691725 -0.188676  1.023125   \n",
       "3          0.393193             -0.659428       -1.445661 -0.362049  0.503590   \n",
       "4          0.702935              2.624389        0.691725 -0.882167  0.565114   \n",
       "...             ...                   ...             ...       ...       ...   \n",
       "18479     -0.845774             -0.659428        0.691725 -0.015303  2.198913   \n",
       "18480     -0.845774             -0.659428        0.691725 -0.708794  0.038743   \n",
       "18481     -0.845774             -0.659428       -1.445661  0.331443  4.851274   \n",
       "18482     -0.845774             -0.659428        0.691725  0.418129  2.103210   \n",
       "18483     -0.845774             -0.659428        0.691725  0.331443  2.164734   \n",
       "\n",
       "       Frequency  Total_Sales  First_Purchase    Bikes_  Accessories_  ...  \\\n",
       "0       1.365555     3.135647        2.736672  1.021076     -0.853990  ...   \n",
       "1       1.365555     2.257607        2.751108  1.009311     -0.848563  ...   \n",
       "2       1.365555     3.072117        2.779982  1.048181     -0.868953  ...   \n",
       "3       1.365555     3.084003        2.812464  1.041867     -0.864530  ...   \n",
       "4       1.365555     3.110706        2.722235  1.034059     -0.853556  ...   \n",
       "...          ...          ...             ...       ...           ...  ...   \n",
       "18479  -0.450796     0.216917        0.592832  1.056997     -0.878565  ...   \n",
       "18480  -0.450796     0.401898       -0.547662  1.008476     -0.833868  ...   \n",
       "18481  -0.450796     0.841108        1.993185  1.056997     -0.878565  ...   \n",
       "18482  -0.450796     0.216917        0.542304  1.056997     -0.878565  ...   \n",
       "18483  -0.450796     0.216917        0.574786  1.056997     -0.878565  ...   \n",
       "\n",
       "       dum_Bachelors  dum_Graduate Degree  dum_High School  \\\n",
       "0           1.565593            -0.456617        -0.465675   \n",
       "1           1.565593            -0.456617        -0.465675   \n",
       "2           1.565593            -0.456617        -0.465675   \n",
       "3           1.565593            -0.456617        -0.465675   \n",
       "4           1.565593            -0.456617        -0.465675   \n",
       "...              ...                  ...              ...   \n",
       "18479      -0.638735             2.190017        -0.465675   \n",
       "18480      -0.638735             2.190017        -0.465675   \n",
       "18481      -0.638735             2.190017        -0.465675   \n",
       "18482       1.565593            -0.456617        -0.465675   \n",
       "18483       1.565593            -0.456617        -0.465675   \n",
       "\n",
       "       dum_Partial College  dum_Partial High School  dum_Clerical  \\\n",
       "0                -0.614286                -0.305833     -0.433847   \n",
       "1                -0.614286                -0.305833     -0.433847   \n",
       "2                -0.614286                -0.305833     -0.433847   \n",
       "3                -0.614286                -0.305833     -0.433847   \n",
       "4                -0.614286                -0.305833     -0.433847   \n",
       "...                    ...                      ...           ...   \n",
       "18479            -0.614286                -0.305833      2.304960   \n",
       "18480            -0.614286                -0.305833      2.304960   \n",
       "18481            -0.614286                -0.305833      2.304960   \n",
       "18482            -0.614286                -0.305833      2.304960   \n",
       "18483            -0.614286                -0.305833      2.304960   \n",
       "\n",
       "       dum_Management  dum_Manual  dum_Professional  dum_Skilled Manual  \n",
       "0            -0.44672   -0.384805          1.532498           -0.573685  \n",
       "1            -0.44672   -0.384805          1.532498           -0.573685  \n",
       "2            -0.44672   -0.384805          1.532498           -0.573685  \n",
       "3            -0.44672   -0.384805          1.532498           -0.573685  \n",
       "4            -0.44672   -0.384805          1.532498           -0.573685  \n",
       "...               ...         ...               ...                 ...  \n",
       "18479        -0.44672   -0.384805         -0.652529           -0.573685  \n",
       "18480        -0.44672   -0.384805         -0.652529           -0.573685  \n",
       "18481        -0.44672   -0.384805         -0.652529           -0.573685  \n",
       "18482        -0.44672   -0.384805         -0.652529           -0.573685  \n",
       "18483        -0.44672   -0.384805         -0.652529           -0.573685  \n",
       "\n",
       "[18484 rows x 24 columns]"
      ]
     },
     "execution_count": 66,
     "metadata": {},
     "output_type": "execute_result"
    }
   ],
   "source": [
    "scaled_ds"
   ]
  },
  {
   "cell_type": "markdown",
   "id": "ea04e8b9",
   "metadata": {},
   "source": [
    "### Dimensionality Reduction\n",
    "In order to create the clusters of customers. Trying to reduce the columns using PCA which make the model bit more easy"
   ]
  },
  {
   "cell_type": "code",
   "execution_count": 67,
   "id": "53d5549c",
   "metadata": {},
   "outputs": [],
   "source": [
    "pca = PCA()\n",
    "pca.fit(scaled_ds)\n",
    "pca_samples = pca.transform(scaled_ds)"
   ]
  },
  {
   "cell_type": "code",
   "execution_count": 68,
   "id": "13694b41",
   "metadata": {},
   "outputs": [
    {
     "data": {
      "text/plain": [
       "(18484, 24)"
      ]
     },
     "execution_count": 68,
     "metadata": {},
     "output_type": "execute_result"
    }
   ],
   "source": [
    "pca_samples.shape"
   ]
  },
  {
   "cell_type": "code",
   "execution_count": 69,
   "id": "057e32a4",
   "metadata": {},
   "outputs": [
    {
     "name": "stderr",
     "output_type": "stream",
     "text": [
      "C:\\Users\\user\\anaconda3\\lib\\site-packages\\seaborn\\_decorators.py:36: FutureWarning: Pass the following variables as keyword args: x, y. From version 0.12, the only valid positional argument will be `data`, and passing other arguments without an explicit keyword will result in an error or misinterpretation.\n",
      "  warnings.warn(\n"
     ]
    },
    {
     "data": {
      "image/png": "[encoded data removed]",
      "text/plain": [
       "<Figure size 1008x360 with 1 Axes>"
      ]
     },
     "metadata": {},
     "output_type": "display_data"
    }
   ],
   "source": [
    "fig, ax = plt.subplots(figsize=(14, 5))\n",
    "sns.set(font_scale=1)\n",
    "plt.step(range(matrix.shape[1]), pca.explained_variance_ratio_.cumsum(), where='mid',\n",
    "         label='cumulative explained variance')\n",
    "sns.barplot(np.arange(1,matrix.shape[1]+1), pca.explained_variance_ratio_, alpha=0.5, color = 'g',\n",
    "            label='individual explained variance')\n",
    "plt.xlim(0, 10)\n",
    "\n",
    "ax.set_xticklabels([s if int(s.get_text())%2 == 0 else '' for s in ax.get_xticklabels()])\n",
    "\n",
    "plt.ylabel('Explained variance', fontsize = 14)\n",
    "plt.xlabel('Principal components', fontsize = 14)\n",
    "plt.legend(loc='best', fontsize = 13);"
   ]
  },
  {
   "cell_type": "markdown",
   "id": "be11f1b5",
   "metadata": {},
   "source": [
    "With 11 components the variance explained is 80%. So lets consider 11 columns"
   ]
  },
  {
   "cell_type": "code",
   "execution_count": 70,
   "id": "da7ed00f",
   "metadata": {},
   "outputs": [],
   "source": [
    "pca = PCA(0.80)\n",
    "pca.fit(scaled_ds)\n",
    "df_80_var = pca.transform(scaled_ds)"
   ]
  },
  {
   "cell_type": "code",
   "execution_count": 71,
   "id": "59638d0a",
   "metadata": {},
   "outputs": [
    {
     "data": {
      "text/plain": [
       "(18484, 11)"
      ]
     },
     "execution_count": 71,
     "metadata": {},
     "output_type": "execute_result"
    }
   ],
   "source": [
    "df_80_var.shape"
   ]
  },
  {
   "cell_type": "markdown",
   "id": "7de4b9f0",
   "metadata": {},
   "source": [
    "## Model_Building\n"
   ]
  },
  {
   "cell_type": "code",
   "execution_count": 72,
   "id": "703627f5",
   "metadata": {
    "scrolled": true
   },
   "outputs": [
    {
     "data": {
      "image/png": "[encoded data removed]",
      "text/plain": [
       "<Figure size 576x396 with 2 Axes>"
      ]
     },
     "metadata": {},
     "output_type": "display_data"
    },
    {
     "data": {
      "text/plain": [
       "<AxesSubplot:title={'center':'Distortion Score Elbow for KMeans Clustering'}, xlabel='k', ylabel='distortion score'>"
      ]
     },
     "execution_count": 72,
     "metadata": {},
     "output_type": "execute_result"
    }
   ],
   "source": [
    "Elbow_M = KElbowVisualizer(KMeans(), k=10)\n",
    "Elbow_M.fit(df_80_var)\n",
    "Elbow_M.show()"
   ]
  },
  {
   "cell_type": "markdown",
   "id": "e0eeaeaf",
   "metadata": {},
   "source": [
    "The above plot is trying to explain that 7 will be the optimal number of clusters of this data"
   ]
  },
  {
   "cell_type": "code",
   "execution_count": 77,
   "id": "e2e1c5bf",
   "metadata": {},
   "outputs": [
    {
     "name": "stdout",
     "output_type": "stream",
     "text": [
      "For n_clusters = 3 The average silhouette_score is : 0.143799492193939\n",
      "For n_clusters = 4 The average silhouette_score is : 0.15771506215352288\n",
      "For n_clusters = 5 The average silhouette_score is : 0.16295735135208791\n",
      "For n_clusters = 6 The average silhouette_score is : 0.16303762577775943\n",
      "For n_clusters = 7 The average silhouette_score is : 0.19572725656143938\n",
      "For n_clusters = 8 The average silhouette_score is : 0.18792980687135596\n",
      "For n_clusters = 9 The average silhouette_score is : 0.20004877211528915\n",
      "For n_clusters = 10 The average silhouette_score is : 0.208892641805954\n"
     ]
    }
   ],
   "source": [
    "range_n_clusters=[i for i in range(3,11)]\n",
    "for n_clusters in range_n_clusters:\n",
    "    clusterer = KMeans(n_clusters=n_clusters, random_state=10)\n",
    "    cluster_labels = clusterer.fit_predict(df_80_var)\n",
    "\n",
    "    # The silhouette_score gives the average value for all the samples.\n",
    "    # This gives a perspective into the density and separation of the formed\n",
    "    # clusters\n",
    "    silhouette_avg = silhouette_score(df_80_var, cluster_labels)\n",
    "    print(\"For n_clusters =\", n_clusters,\n",
    "          \"The average silhouette_score is :\", silhouette_avg)"
   ]
  },
  {
   "cell_type": "markdown",
   "id": "88d693d9",
   "metadata": {},
   "source": [
    "The quality of the Clusters predicted is measured using silhouette score. For the cluster 7 the silhouette score is high compartively"
   ]
  },
  {
   "cell_type": "code",
   "execution_count": 78,
   "id": "b838d164",
   "metadata": {},
   "outputs": [
    {
     "name": "stdout",
     "output_type": "stream",
     "text": [
      "score de silhouette: 0.196\n"
     ]
    }
   ],
   "source": [
    "n_clusters = 7\n",
    "kmeans = KMeans(init='k-means++', n_clusters = n_clusters, n_init=100)\n",
    "kmeans.fit(df_80_var)\n",
    "clusters_clients = kmeans.predict(df_80_var)\n",
    "silhouette_avg = silhouette_score(df_80_var, clusters_clients)\n",
    "print('score de silhouette: {:<.3f}'.format(silhouette_avg))"
   ]
  },
  {
   "cell_type": "code",
   "execution_count": 79,
   "id": "ff07013a",
   "metadata": {},
   "outputs": [],
   "source": [
    "clusters=pd.DataFrame(clusters_clients,columns=[\"Cluster\"])"
   ]
  },
  {
   "cell_type": "code",
   "execution_count": 80,
   "id": "18f9b743",
   "metadata": {},
   "outputs": [],
   "source": [
    "ref_data[\"Clusters\"]=clusters[\"Cluster\"]"
   ]
  },
  {
   "cell_type": "markdown",
   "id": "4d3271eb",
   "metadata": {},
   "source": [
    "# Evaluating the Model"
   ]
  },
  {
   "cell_type": "code",
   "execution_count": 81,
   "id": "75649f97",
   "metadata": {},
   "outputs": [
    {
     "name": "stderr",
     "output_type": "stream",
     "text": [
      "C:\\Users\\user\\anaconda3\\lib\\site-packages\\seaborn\\_decorators.py:36: FutureWarning: Pass the following variable as a keyword arg: x. From version 0.12, the only valid positional argument will be `data`, and passing other arguments without an explicit keyword will result in an error or misinterpretation.\n",
      "  warnings.warn(\n"
     ]
    },
    {
     "data": {
      "image/png": "[encoded data removed]",
      "text/plain": [
       "<Figure size 576x396 with 1 Axes>"
      ]
     },
     "metadata": {},
     "output_type": "display_data"
    }
   ],
   "source": [
    "dst_cl=sns.countplot(ref_data[\"Clusters\"])\n",
    "dst_cl.set_title(\"Distribution of the Clusters\")\n",
    "plt.show()"
   ]
  },
  {
   "cell_type": "markdown",
   "id": "b9821ebf",
   "metadata": {},
   "source": [
    "## Evalution of these model is made as report using Power Bi.\n",
    "\n",
    "#### These are the insights made out of the report."
   ]
  },
  {
   "cell_type": "markdown",
   "id": "b63b00e8",
   "metadata": {},
   "source": [
    "Cluster_0 \n",
    "- This cluster belongs to the customers whose occupation are **Clerical**. \n",
    " The products category on which these customers interests are Clothing and Accessories.\n",
    " Customers whose recency is less are having more frequency.\n",
    "\n",
    "Cluster_1\n",
    "- These customers are those customers who are more interested into **Bikes**. The frequency of these customers are less might because as they are totally into spending on bikes, basically people don’t buy bikes too often than that of accessories and clothing. \n",
    "\n",
    "Cluster_2\n",
    "- This cluster is a generalized cluster where there is no bias towards any particular occupation.\n",
    "The product category on which these customers where interested are Bikes. 72% of customers who spent on bikes falls into this cluster.\n",
    "For the past 6 months the purchase frequency of these customers are increasing.\n",
    "Most of the Customers under these category are high spending.\n",
    "\n",
    "Cluster_3\n",
    "- This cluster belongs to the customers whose occupation are **Professionals**.\n",
    "The product category on which these customers mostly spent is Clothing. As most of their spending is on clothing the customer recency is low and frequency is high.\n",
    "\n",
    "Cluster_4\n",
    "- This cluster belongs to the customers whose occupation are **Management**.\n",
    "The products category on which these customers where interested in are Accessories and Clothing.\n",
    "Amount they invested on sales is below 5000. As they are investing on both Clothes and Accessories, Frequency of these customers is more. \n",
    "\n",
    "Cluster_5\n",
    "- This cluster belongs to the customers whose occupation are **Manual** and also low earning customers. \n",
    "Frequency of these customers is less but the purchase amount is high. These customers are one time buyers.\n",
    "The product category on which these customers mostly spent is Accessories.\n",
    "\n",
    "Cluster_6 \n",
    "- This cluster belongs to the customers whose occupation are **Skilled Manual**.\n",
    "The Product category on which these customers mostly spent are Clothing.\n",
    "\n",
    "Overall from the given data we can see one thing in common for the past 6 months there was a huge increase in the sales.\n"
   ]
  },
  {
   "cell_type": "code",
   "execution_count": null,
   "id": "8e2ade98",
   "metadata": {},
   "outputs": [],
   "source": []
  }
 ],
 "metadata": {
  "kernelspec": {
   "display_name": "Python 3 (ipykernel)",
   "language": "python",
   "name": "python3"
  },
  "language_info": {
   "codemirror_mode": {
    "name": "ipython",
    "version": 3
   },
   "file_extension": ".py",
   "mimetype": "text/x-python",
   "name": "python",
   "nbconvert_exporter": "python",
   "pygments_lexer": "ipython3",
   "version": "3.9.7"
  }
 },
 "nbformat": 4,
 "nbformat_minor": 5
}
